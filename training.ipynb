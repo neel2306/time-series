{
 "cells": [
  {
   "cell_type": "code",
   "execution_count": 11,
   "metadata": {},
   "outputs": [],
   "source": [
    "import pandas_datareader as pdr\n",
    "import pandas as pd"
   ]
  },
  {
   "cell_type": "code",
   "execution_count": 12,
   "metadata": {},
   "outputs": [
    {
     "data": {
      "text/plain": [
       "True"
      ]
     },
     "execution_count": 12,
     "metadata": {},
     "output_type": "execute_result"
    }
   ],
   "source": [
    "def get_data():\n",
    "    temp = pdr.get_data_yahoo('INFY')\n",
    "    temp.to_csv('C:\\Codes\\Time-Series\\Data\\infosys.csv')\n",
    "    return True\n",
    "get_data() #To work with data extracted."
   ]
  },
  {
   "cell_type": "markdown",
   "metadata": {},
   "source": [
    "# EDA"
   ]
  },
  {
   "cell_type": "code",
   "execution_count": 13,
   "metadata": {},
   "outputs": [
    {
     "name": "stdout",
     "output_type": "stream",
     "text": [
      "             High    Low   Open  Close      Volume  Adj Close\n",
      "Date                                                         \n",
      "2017-07-12  7.830  7.710  7.750  7.820  21274600.0   6.827609\n",
      "2017-07-13  7.825  7.735  7.775  7.780  20329000.0   6.792686\n",
      "2017-07-14  7.965  7.750  7.775  7.835  23331800.0   6.840705\n",
      "2017-07-17  7.870  7.730  7.860  7.820  14512400.0   6.827609\n",
      "2017-07-18  7.840  7.710  7.800  7.775  12970800.0   6.788319\n"
     ]
    }
   ],
   "source": [
    "df = pd.read_csv('C:\\Codes\\Time-Series\\Data\\infosys.csv')    #Reading the data.\n",
    "df.index = pd.to_datetime(df['Date'], format = \"%Y.%m.%d\")   #Changing index to datetime dtype.\n",
    "df.drop(columns='Date', inplace=True)                        #Dropping the existing date column.\n",
    "print(df.head())"
   ]
  },
  {
   "cell_type": "code",
   "execution_count": 14,
   "metadata": {},
   "outputs": [
    {
     "name": "stdout",
     "output_type": "stream",
     "text": [
      "                 High        Low       Open      Close      Volume  Adj Close\n",
      "Date                                                                         \n",
      "2022-07-05  18.690001  18.360001  18.510000  18.670000  10265200.0  18.670000\n",
      "2022-07-06  19.020000  18.700001  18.700001  18.930000   8860200.0  18.930000\n",
      "2022-07-07  19.180000  18.900000  18.990000  19.160000   9675500.0  19.160000\n",
      "2022-07-08  19.160000  18.760000  19.049999  19.059999  15835100.0  19.059999\n",
      "2022-07-11  18.590000  18.230000  18.500000  18.459999   7908800.0  18.459999\n"
     ]
    }
   ],
   "source": [
    "print(df.tail())"
   ]
  },
  {
   "cell_type": "code",
   "execution_count": 15,
   "metadata": {},
   "outputs": [
    {
     "name": "stdout",
     "output_type": "stream",
     "text": [
      "              High          Low         Open        Close        Volume  \\\n",
      "count  1258.000000  1258.000000  1258.000000  1258.000000  1.258000e+03   \n",
      "mean     13.597333    13.367369    13.481657    13.485358  1.047395e+07   \n",
      "std       5.507180     5.419010     5.464274     5.465932  6.564810e+06   \n",
      "min       7.155000     6.760000     6.920000     6.940000  1.320600e+06   \n",
      "25%       9.370000     9.170000     9.252500     9.270000  6.531225e+06   \n",
      "50%      10.870000    10.725000    10.815000    10.770000  8.877450e+06   \n",
      "75%      18.532499    18.172500    18.342500    18.352500  1.251438e+07   \n",
      "max      26.389999    25.580000    26.150000    26.200001  7.716540e+07   \n",
      "\n",
      "         Adj Close  \n",
      "count  1258.000000  \n",
      "mean     12.854244  \n",
      "std       5.664382  \n",
      "min       6.225172  \n",
      "25%       8.578665  \n",
      "50%      10.000537  \n",
      "75%      17.876713  \n",
      "max      25.910423  \n"
     ]
    }
   ],
   "source": [
    "print(df.describe())"
   ]
  },
  {
   "cell_type": "code",
   "execution_count": 16,
   "metadata": {},
   "outputs": [
    {
     "name": "stdout",
     "output_type": "stream",
     "text": [
      "High         False\n",
      "Low          False\n",
      "Open         False\n",
      "Close        False\n",
      "Volume       False\n",
      "Adj Close    False\n",
      "dtype: bool\n"
     ]
    }
   ],
   "source": [
    "print(df.isnull().any(axis=0))  #No null values."
   ]
  },
  {
   "cell_type": "code",
   "execution_count": 17,
   "metadata": {},
   "outputs": [
    {
     "data": {
      "text/plain": [
       "<matplotlib.axes._subplots.AxesSubplot at 0x1cd0307b4f0>"
      ]
     },
     "execution_count": 17,
     "metadata": {},
     "output_type": "execute_result"
    },
    {
     "data": {
      "image/png": "[encoded data removed]",
      "text/plain": [
       "<Figure size 432x288 with 2 Axes>"
      ]
     },
     "metadata": {
      "needs_background": "light"
     },
     "output_type": "display_data"
    }
   ],
   "source": [
    "import seaborn as sns\n",
    "sns.heatmap(df.corr(), cmap = 'BuGn', annot=True)"
   ]
  },
  {
   "cell_type": "code",
   "execution_count": 18,
   "metadata": {},
   "outputs": [],
   "source": [
    "#We are only going to be working with the close value.\n",
    "df.drop(columns=['Volume','High','Low','Open','Adj Close'], inplace=True)"
   ]
  },
  {
   "cell_type": "code",
   "execution_count": 19,
   "metadata": {},
   "outputs": [
    {
     "data": {
      "text/html": [
       "<div>\n",
       "<style scoped>\n",
       "    .dataframe tbody tr th:only-of-type {\n",
       "        vertical-align: middle;\n",
       "    }\n",
       "\n",
       "    .dataframe tbody tr th {\n",
       "        vertical-align: top;\n",
       "    }\n",
       "\n",
       "    .dataframe thead th {\n",
       "        text-align: right;\n",
       "    }\n",
       "</style>\n",
       "<table border=\"1\" class=\"dataframe\">\n",
       "  <thead>\n",
       "    <tr style=\"text-align: right;\">\n",
       "      <th></th>\n",
       "      <th>Close</th>\n",
       "    </tr>\n",
       "    <tr>\n",
       "      <th>Date</th>\n",
       "      <th></th>\n",
       "    </tr>\n",
       "  </thead>\n",
       "  <tbody>\n",
       "    <tr>\n",
       "      <th>2017-07-12</th>\n",
       "      <td>7.820</td>\n",
       "    </tr>\n",
       "    <tr>\n",
       "      <th>2017-07-13</th>\n",
       "      <td>7.780</td>\n",
       "    </tr>\n",
       "    <tr>\n",
       "      <th>2017-07-14</th>\n",
       "      <td>7.835</td>\n",
       "    </tr>\n",
       "    <tr>\n",
       "      <th>2017-07-17</th>\n",
       "      <td>7.820</td>\n",
       "    </tr>\n",
       "    <tr>\n",
       "      <th>2017-07-18</th>\n",
       "      <td>7.775</td>\n",
       "    </tr>\n",
       "  </tbody>\n",
       "</table>\n",
       "</div>"
      ],
      "text/plain": [
       "            Close\n",
       "Date             \n",
       "2017-07-12  7.820\n",
       "2017-07-13  7.780\n",
       "2017-07-14  7.835\n",
       "2017-07-17  7.820\n",
       "2017-07-18  7.775"
      ]
     },
     "execution_count": 19,
     "metadata": {},
     "output_type": "execute_result"
    }
   ],
   "source": [
    "df.head()"
   ]
  },
  {
   "cell_type": "code",
   "execution_count": 20,
   "metadata": {},
   "outputs": [],
   "source": [
    "#Saving it to a different csv file.\n",
    "df.to_csv('C:\\Codes\\Time-Series\\Data\\closeInfosys.csv')"
   ]
  },
  {
   "cell_type": "markdown",
   "metadata": {},
   "source": [
    "# Data-Preprocessing"
   ]
  },
  {
   "cell_type": "code",
   "execution_count": 21,
   "metadata": {},
   "outputs": [
    {
     "name": "stdout",
     "output_type": "stream",
     "text": [
      "         Date  Close\n",
      "0  2017-07-12  7.820\n",
      "1  2017-07-13  7.780\n",
      "2  2017-07-14  7.835\n",
      "3  2017-07-17  7.820\n",
      "4  2017-07-18  7.775\n"
     ]
    }
   ],
   "source": [
    "closeDF = pd.read_csv('C:\\Codes\\Time-Series\\Data\\closeInfosys.csv')\n",
    "print(closeDF.head())"
   ]
  },
  {
   "cell_type": "code",
   "execution_count": 22,
   "metadata": {},
   "outputs": [],
   "source": [
    "closeDF.set_index(closeDF['Date'],drop=True, inplace=True)  #Setting the index column as the date column."
   ]
  },
  {
   "cell_type": "code",
   "execution_count": 23,
   "metadata": {},
   "outputs": [],
   "source": [
    "closeDF.drop(columns='Date', inplace=True)                  #Dropping the existing date column."
   ]
  },
  {
   "cell_type": "code",
   "execution_count": 24,
   "metadata": {},
   "outputs": [
    {
     "name": "stdout",
     "output_type": "stream",
     "text": [
      "            Close\n",
      "Date             \n",
      "2017-07-12  7.820\n",
      "2017-07-13  7.780\n",
      "2017-07-14  7.835\n",
      "2017-07-17  7.820\n",
      "2017-07-18  7.775\n"
     ]
    }
   ],
   "source": [
    "print(closeDF.head())"
   ]
  },
  {
   "cell_type": "code",
   "execution_count": 25,
   "metadata": {},
   "outputs": [
    {
     "data": {
      "image/png": "[encoded data removed]",
      "text/plain": [
       "<Figure size 432x288 with 1 Axes>"
      ]
     },
     "metadata": {
      "needs_background": "light"
     },
     "output_type": "display_data"
    }
   ],
   "source": [
    "#Getting the moving average and deviation.\n",
    "data_mean = closeDF['Close'].rolling(window=23).mean()\n",
    "data_std = closeDF['Close'].rolling(window=23).std()\n",
    "\n",
    "#Plotting the results.\n",
    "from matplotlib import pyplot as plt\n",
    "plt.plot(closeDF['Close'], color='green', label='Original Data')\n",
    "plt.plot(data_mean, color=\"yellow\", label=\"Rolling mean\")\n",
    "plt.plot(data_std, color='red', label='Deviation')\n",
    "plt.legend(loc='best')\n",
    "plt.title('Original VS Mean VS Std')\n",
    "plt.show()"
   ]
  },
  {
   "cell_type": "code",
   "execution_count": 27,
   "metadata": {},
   "outputs": [
    {
     "name": "stdout",
     "output_type": "stream",
     "text": [
      "(1258, 1)\n"
     ]
    }
   ],
   "source": [
    "from sklearn.preprocessing import MinMaxScaler\n",
    "import numpy as np\n",
    "\n",
    "#Normalizing the data.\n",
    "scaler = MinMaxScaler(feature_range=(0,1))\n",
    "df1 = scaler.fit_transform(np.array(closeDF['Close']).reshape(-1,1))\n",
    "print(df1.shape)"
   ]
  },
  {
   "cell_type": "code",
   "execution_count": 28,
   "metadata": {},
   "outputs": [],
   "source": [
    "closeDF.dropna(inplace=True) #Dropping all the null values."
   ]
  },
  {
   "cell_type": "code",
   "execution_count": 29,
   "metadata": {},
   "outputs": [],
   "source": [
    "def split_data(data): \n",
    "\n",
    "    '''\n",
    "    A function to split the data into  train and validation sets.\n",
    "    '''\n",
    "    train_size = int(len(data) * 0.75)\n",
    "    test_size = int(len(data) - train_size)\n",
    "    train_data, test_data = data[0:train_size,:],data[train_size:len(df1),:1]\n",
    "    print(train_size, test_size)\n",
    "    return train_data, test_data"
   ]
  },
  {
   "cell_type": "code",
   "execution_count": 30,
   "metadata": {},
   "outputs": [
    {
     "name": "stdout",
     "output_type": "stream",
     "text": [
      "943 315\n"
     ]
    }
   ],
   "source": [
    "X,Y = split_data(df1) #Splitting the data into train and validation sets."
   ]
  },
  {
   "cell_type": "code",
   "execution_count": 31,
   "metadata": {},
   "outputs": [],
   "source": [
    "#Saving the numpy arrays in a csv file.\n",
    "np.savetxt('C:\\\\Codes\\\\Time-Series\\\\Data\\\\train_data.csv', X)\n",
    "np.savetxt('C:\\\\Codes\\\\Time-Series\\\\Data\\\\test_data.csv', Y)"
   ]
  },
  {
   "cell_type": "code",
   "execution_count": 32,
   "metadata": {},
   "outputs": [],
   "source": [
    "#Reading the data saved earlier.\n",
    "x = pd.read_csv(\"C:\\\\Codes\\\\Time-Series\\\\Data\\\\train_data.csv\")  #Train Data.\n",
    "y = pd.read_csv(\"C:\\\\Codes\\\\Time-Series\\\\Data\\\\test_data.csv\")   #Test Data."
   ]
  },
  {
   "cell_type": "code",
   "execution_count": 33,
   "metadata": {},
   "outputs": [],
   "source": [
    "def dataset_matrix(dataset, timestep):\n",
    "    '''\n",
    "    Function to generate a data matrix depending upon the time stamps taken into consideration for the forecasting.\n",
    "    '''\n",
    "    X_data, Y_data = [], []\n",
    "    for i in range(len(dataset)-timestep-1):\n",
    "        flag_X = dataset.iloc[i:(i+timestep), 0]\n",
    "        flag_Y = dataset.iloc[(i+timestep),0]\n",
    "        X_data.append(flag_X)\n",
    "        Y_data.append(flag_Y)\n",
    "    return np.array(X_data), np.array(Y_data)"
   ]
  },
  {
   "cell_type": "code",
   "execution_count": 71,
   "metadata": {},
   "outputs": [],
   "source": [
    "timestep = 60\n",
    "Xtrain, Ytrain = dataset_matrix(x, timestep)\n",
    "Xtest, Ytest = dataset_matrix(y, timestep)"
   ]
  },
  {
   "cell_type": "code",
   "execution_count": 72,
   "metadata": {},
   "outputs": [
    {
     "name": "stdout",
     "output_type": "stream",
     "text": [
      "(881, 60) \n",
      " (881,) \n",
      " (253, 60) \n",
      " (253,)\n"
     ]
    }
   ],
   "source": [
    "print(Xtrain.shape,'\\n',Ytrain.shape,'\\n',Xtest.shape,'\\n',Ytest.shape)"
   ]
  },
  {
   "cell_type": "code",
   "execution_count": 73,
   "metadata": {},
   "outputs": [],
   "source": [
    "#Reshaping the data to feed it into the LSTM model.\n",
    "Xtrain = Xtrain.reshape(Xtrain.shape[0], Xtrain.shape[1], 1) \n",
    "Xtest = Xtest.reshape(Xtest.shape[0], Xtest.shape[1], 1)"
   ]
  },
  {
   "cell_type": "markdown",
   "metadata": {},
   "source": [
    "# Bulding the Model."
   ]
  },
  {
   "cell_type": "code",
   "execution_count": 81,
   "metadata": {},
   "outputs": [
    {
     "name": "stdout",
     "output_type": "stream",
     "text": [
      "Model: \"sequential_2\"\n",
      "_________________________________________________________________\n",
      "Layer (type)                 Output Shape              Param #   \n",
      "=================================================================\n",
      "lstm_6 (LSTM)                (None, 60, 100)           40800     \n",
      "_________________________________________________________________\n",
      "dropout_6 (Dropout)          (None, 60, 100)           0         \n",
      "_________________________________________________________________\n",
      "lstm_7 (LSTM)                (None, 60, 50)            30200     \n",
      "_________________________________________________________________\n",
      "dropout_7 (Dropout)          (None, 60, 50)            0         \n",
      "_________________________________________________________________\n",
      "lstm_8 (LSTM)                (None, 25)                7600      \n",
      "_________________________________________________________________\n",
      "dropout_8 (Dropout)          (None, 25)                0         \n",
      "_________________________________________________________________\n",
      "dense_2 (Dense)              (None, 1)                 26        \n",
      "=================================================================\n",
      "Total params: 78,626\n",
      "Trainable params: 78,626\n",
      "Non-trainable params: 0\n",
      "_________________________________________________________________\n",
      "None\n"
     ]
    }
   ],
   "source": [
    "from keras.layers import Dense, Dropout, LSTM\n",
    "from keras.models import Sequential\n",
    "\n",
    "#Bulding blocks of the model.\n",
    "model = Sequential()\n",
    "model.add(LSTM(100, return_sequences=True, input_shape=(60,1)))\n",
    "model.add(Dropout(0.5))\n",
    "model.add(LSTM(50, return_sequences=True))\n",
    "model.add(Dropout(0.3))\n",
    "model.add(LSTM(25, return_sequences=False))\n",
    "model.add(Dropout(0.2))\n",
    "model.add(Dense(1))\n",
    "model.compile(optimizer='adam', loss='mean_squared_error')\n",
    "print(model.summary())"
   ]
  },
  {
   "cell_type": "code",
   "execution_count": 82,
   "metadata": {},
   "outputs": [],
   "source": [
    "from keras.callbacks import CSVLogger, ModelCheckpoint,EarlyStopping  \n",
    "csv_logger = CSVLogger('training.log', separator = ';')\n",
    "checkpoint = ModelCheckpoint('lstm_model.h5', monitor = 'val_loss', verbose = 1, save_best_only = True)\n",
    "early = EarlyStopping(monitor = 'val_loss', patience = 10)"
   ]
  },
  {
   "cell_type": "code",
   "execution_count": 83,
   "metadata": {},
   "outputs": [
    {
     "name": "stdout",
     "output_type": "stream",
     "text": [
      "Epoch 1/50\n",
      "28/28 [==============================] - 13s 177ms/step - loss: 0.0078 - val_loss: 0.0036\n",
      "\n",
      "Epoch 00001: val_loss improved from inf to 0.00360, saving model to lstm_model.h5\n",
      "Epoch 2/50\n",
      "28/28 [==============================] - 3s 126ms/step - loss: 0.0025 - val_loss: 0.0034\n",
      "\n",
      "Epoch 00002: val_loss improved from 0.00360 to 0.00337, saving model to lstm_model.h5\n",
      "Epoch 3/50\n",
      "28/28 [==============================] - 3s 118ms/step - loss: 0.0022 - val_loss: 0.0049\n",
      "\n",
      "Epoch 00003: val_loss did not improve from 0.00337\n",
      "Epoch 4/50\n",
      "28/28 [==============================] - 4s 131ms/step - loss: 0.0020 - val_loss: 0.0030\n",
      "\n",
      "Epoch 00004: val_loss improved from 0.00337 to 0.00304, saving model to lstm_model.h5\n",
      "Epoch 5/50\n",
      "28/28 [==============================] - 4s 129ms/step - loss: 0.0020 - val_loss: 0.0033\n",
      "\n",
      "Epoch 00005: val_loss did not improve from 0.00304\n",
      "Epoch 6/50\n",
      "28/28 [==============================] - 3s 116ms/step - loss: 0.0017 - val_loss: 0.0028\n",
      "\n",
      "Epoch 00006: val_loss improved from 0.00304 to 0.00279, saving model to lstm_model.h5\n",
      "Epoch 7/50\n",
      "28/28 [==============================] - 4s 127ms/step - loss: 0.0019 - val_loss: 0.0059\n",
      "\n",
      "Epoch 00007: val_loss did not improve from 0.00279\n",
      "Epoch 8/50\n",
      "28/28 [==============================] - 3s 112ms/step - loss: 0.0016 - val_loss: 0.0033\n",
      "\n",
      "Epoch 00008: val_loss did not improve from 0.00279\n",
      "Epoch 9/50\n",
      "28/28 [==============================] - 3s 125ms/step - loss: 0.0019 - val_loss: 0.0042\n",
      "\n",
      "Epoch 00009: val_loss did not improve from 0.00279\n",
      "Epoch 10/50\n",
      "28/28 [==============================] - 3s 111ms/step - loss: 0.0018 - val_loss: 0.0078\n",
      "\n",
      "Epoch 00010: val_loss did not improve from 0.00279\n",
      "Epoch 11/50\n",
      "28/28 [==============================] - 3s 125ms/step - loss: 0.0015 - val_loss: 0.0038\n",
      "\n",
      "Epoch 00011: val_loss did not improve from 0.00279\n",
      "Epoch 12/50\n",
      "28/28 [==============================] - 3s 111ms/step - loss: 0.0014 - val_loss: 0.0066\n",
      "\n",
      "Epoch 00012: val_loss did not improve from 0.00279\n",
      "Epoch 13/50\n",
      "28/28 [==============================] - 4s 127ms/step - loss: 0.0016 - val_loss: 0.0049\n",
      "\n",
      "Epoch 00013: val_loss did not improve from 0.00279\n",
      "Epoch 14/50\n",
      "28/28 [==============================] - 3s 112ms/step - loss: 0.0014 - val_loss: 0.0022\n",
      "\n",
      "Epoch 00014: val_loss improved from 0.00279 to 0.00221, saving model to lstm_model.h5\n",
      "Epoch 15/50\n",
      "28/28 [==============================] - 3s 125ms/step - loss: 0.0014 - val_loss: 0.0093\n",
      "\n",
      "Epoch 00015: val_loss did not improve from 0.00221\n",
      "Epoch 16/50\n",
      "28/28 [==============================] - 3s 111ms/step - loss: 0.0013 - val_loss: 0.0021\n",
      "\n",
      "Epoch 00016: val_loss improved from 0.00221 to 0.00211, saving model to lstm_model.h5\n",
      "Epoch 17/50\n",
      "28/28 [==============================] - 4s 127ms/step - loss: 0.0012 - val_loss: 0.0033\n",
      "\n",
      "Epoch 00017: val_loss did not improve from 0.00211\n",
      "Epoch 18/50\n",
      "28/28 [==============================] - 3s 114ms/step - loss: 0.0012 - val_loss: 0.0022\n",
      "\n",
      "Epoch 00018: val_loss did not improve from 0.00211\n",
      "Epoch 19/50\n",
      "28/28 [==============================] - 3s 121ms/step - loss: 0.0011 - val_loss: 0.0020\n",
      "\n",
      "Epoch 00019: val_loss improved from 0.00211 to 0.00203, saving model to lstm_model.h5\n",
      "Epoch 20/50\n",
      "28/28 [==============================] - 3s 125ms/step - loss: 0.0011 - val_loss: 0.0110\n",
      "\n",
      "Epoch 00020: val_loss did not improve from 0.00203\n",
      "Epoch 21/50\n",
      "28/28 [==============================] - 3s 113ms/step - loss: 0.0011 - val_loss: 0.0040\n",
      "\n",
      "Epoch 00021: val_loss did not improve from 0.00203\n",
      "Epoch 22/50\n",
      "28/28 [==============================] - 3s 124ms/step - loss: 0.0011 - val_loss: 0.0037\n",
      "\n",
      "Epoch 00022: val_loss did not improve from 0.00203\n",
      "Epoch 23/50\n",
      "28/28 [==============================] - 3s 116ms/step - loss: 0.0010 - val_loss: 0.0019\n",
      "\n",
      "Epoch 00023: val_loss improved from 0.00203 to 0.00186, saving model to lstm_model.h5\n",
      "Epoch 24/50\n",
      "28/28 [==============================] - 3s 126ms/step - loss: 0.0012 - val_loss: 0.0018\n",
      "\n",
      "Epoch 00024: val_loss improved from 0.00186 to 0.00183, saving model to lstm_model.h5\n",
      "Epoch 25/50\n",
      "28/28 [==============================] - 3s 111ms/step - loss: 0.0011 - val_loss: 0.0035\n",
      "\n",
      "Epoch 00025: val_loss did not improve from 0.00183\n",
      "Epoch 26/50\n",
      "28/28 [==============================] - 4s 126ms/step - loss: 9.9243e-04 - val_loss: 0.0021\n",
      "\n",
      "Epoch 00026: val_loss did not improve from 0.00183\n",
      "Epoch 27/50\n",
      "28/28 [==============================] - 3s 120ms/step - loss: 0.0011 - val_loss: 0.0018\n",
      "\n",
      "Epoch 00027: val_loss improved from 0.00183 to 0.00181, saving model to lstm_model.h5\n",
      "Epoch 28/50\n",
      "28/28 [==============================] - 4s 139ms/step - loss: 0.0010 - val_loss: 0.0038\n",
      "\n",
      "Epoch 00028: val_loss did not improve from 0.00181\n",
      "Epoch 29/50\n",
      "28/28 [==============================] - 4s 145ms/step - loss: 9.6755e-04 - val_loss: 0.0017\n",
      "\n",
      "Epoch 00029: val_loss improved from 0.00181 to 0.00174, saving model to lstm_model.h5\n",
      "Epoch 30/50\n",
      "28/28 [==============================] - 3s 123ms/step - loss: 0.0011 - val_loss: 0.0017\n",
      "\n",
      "Epoch 00030: val_loss did not improve from 0.00174\n",
      "Epoch 31/50\n",
      "28/28 [==============================] - 4s 146ms/step - loss: 8.8940e-04 - val_loss: 0.0058\n",
      "\n",
      "Epoch 00031: val_loss did not improve from 0.00174\n",
      "Epoch 32/50\n",
      "28/28 [==============================] - 4s 127ms/step - loss: 0.0011 - val_loss: 0.0078\n",
      "\n",
      "Epoch 00032: val_loss did not improve from 0.00174\n",
      "Epoch 33/50\n",
      "28/28 [==============================] - 4s 145ms/step - loss: 0.0011 - val_loss: 0.0029\n",
      "\n",
      "Epoch 00033: val_loss did not improve from 0.00174\n",
      "Epoch 34/50\n",
      "28/28 [==============================] - 4s 148ms/step - loss: 9.4855e-04 - val_loss: 0.0018\n",
      "\n",
      "Epoch 00034: val_loss did not improve from 0.00174\n",
      "Epoch 35/50\n",
      "28/28 [==============================] - 4s 132ms/step - loss: 7.6426e-04 - val_loss: 0.0022\n",
      "\n",
      "Epoch 00035: val_loss did not improve from 0.00174\n",
      "Epoch 36/50\n",
      "28/28 [==============================] - 4s 144ms/step - loss: 8.9955e-04 - val_loss: 0.0027\n",
      "\n",
      "Epoch 00036: val_loss did not improve from 0.00174\n",
      "Epoch 37/50\n",
      "28/28 [==============================] - 4s 144ms/step - loss: 8.6741e-04 - val_loss: 0.0030\n",
      "\n",
      "Epoch 00037: val_loss did not improve from 0.00174\n",
      "Epoch 38/50\n",
      "28/28 [==============================] - 4s 144ms/step - loss: 9.2636e-04 - val_loss: 0.0018\n",
      "\n",
      "Epoch 00038: val_loss did not improve from 0.00174\n",
      "Epoch 39/50\n",
      "28/28 [==============================] - 5s 164ms/step - loss: 7.1646e-04 - val_loss: 0.0028\n",
      "\n",
      "Epoch 00039: val_loss did not improve from 0.00174\n",
      "Epoch 40/50\n",
      "28/28 [==============================] - 4s 155ms/step - loss: 8.1655e-04 - val_loss: 0.0025\n",
      "\n",
      "Epoch 00040: val_loss did not improve from 0.00174\n",
      "Epoch 41/50\n",
      "28/28 [==============================] - 4s 138ms/step - loss: 8.2263e-04 - val_loss: 0.0044\n",
      "\n",
      "Epoch 00041: val_loss did not improve from 0.00174\n",
      "Epoch 42/50\n",
      "28/28 [==============================] - 4s 156ms/step - loss: 8.8426e-04 - val_loss: 0.0022\n",
      "\n",
      "Epoch 00042: val_loss did not improve from 0.00174\n",
      "Epoch 43/50\n",
      "28/28 [==============================] - 4s 141ms/step - loss: 7.9819e-04 - val_loss: 0.0023\n",
      "\n",
      "Epoch 00043: val_loss did not improve from 0.00174\n",
      "Epoch 44/50\n",
      "28/28 [==============================] - 4s 138ms/step - loss: 8.0526e-04 - val_loss: 0.0015\n",
      "\n",
      "Epoch 00044: val_loss improved from 0.00174 to 0.00151, saving model to lstm_model.h5\n",
      "Epoch 45/50\n",
      "28/28 [==============================] - 4s 159ms/step - loss: 7.8275e-04 - val_loss: 0.0042\n",
      "\n",
      "Epoch 00045: val_loss did not improve from 0.00151\n",
      "Epoch 46/50\n",
      "28/28 [==============================] - 4s 133ms/step - loss: 8.2579e-04 - val_loss: 0.0036\n",
      "\n",
      "Epoch 00046: val_loss did not improve from 0.00151\n",
      "Epoch 47/50\n",
      "28/28 [==============================] - 4s 145ms/step - loss: 8.4108e-04 - val_loss: 0.0016\n",
      "\n",
      "Epoch 00047: val_loss did not improve from 0.00151\n",
      "Epoch 48/50\n",
      "28/28 [==============================] - 4s 150ms/step - loss: 7.7671e-04 - val_loss: 0.0019\n",
      "\n",
      "Epoch 00048: val_loss did not improve from 0.00151\n",
      "Epoch 49/50\n",
      "28/28 [==============================] - 4s 138ms/step - loss: 7.5152e-04 - val_loss: 0.0023\n",
      "\n",
      "Epoch 00049: val_loss did not improve from 0.00151\n",
      "Epoch 50/50\n",
      "28/28 [==============================] - 4s 152ms/step - loss: 9.1030e-04 - val_loss: 0.0014\n",
      "\n",
      "Epoch 00050: val_loss improved from 0.00151 to 0.00139, saving model to lstm_model.h5\n"
     ]
    },
    {
     "data": {
      "text/plain": [
       "<keras.callbacks.History at 0x1cd320ed550>"
      ]
     },
     "execution_count": 83,
     "metadata": {},
     "output_type": "execute_result"
    }
   ],
   "source": [
    "#Fitting the model with the dataset at hand.\n",
    "model.fit(Xtrain, Ytrain, validation_data = (Xtest, Ytest), epochs = 50, batch_size = 32,verbose=1, callbacks=[csv_logger, checkpoint])"
   ]
  },
  {
   "cell_type": "markdown",
   "metadata": {},
   "source": [
    "## Evaluation of the Model."
   ]
  },
  {
   "cell_type": "code",
   "execution_count": 84,
   "metadata": {},
   "outputs": [],
   "source": [
    "#Predicting values.\n",
    "train_predict = model.predict(Xtrain)\n",
    "test_predict = model.predict(Xtest)"
   ]
  },
  {
   "cell_type": "code",
   "execution_count": 85,
   "metadata": {},
   "outputs": [],
   "source": [
    "#Converting the normalized predictions to their original form.\n",
    "train_predict = scaler.inverse_transform(train_predict)\n",
    "test_predict = scaler.inverse_transform(test_predict)"
   ]
  },
  {
   "cell_type": "code",
   "execution_count": 86,
   "metadata": {},
   "outputs": [
    {
     "data": {
      "text/plain": [
       "119.430565"
      ]
     },
     "execution_count": 86,
     "metadata": {},
     "output_type": "execute_result"
    }
   ],
   "source": [
    "from keras.losses import MeanSquaredError\n",
    "metric = MeanSquaredError(reduction='auto', name='mean_squared_error')\n",
    "metric(Ytrain, train_predict).numpy()"
   ]
  },
  {
   "cell_type": "code",
   "execution_count": 87,
   "metadata": {},
   "outputs": [
    {
     "data": {
      "text/plain": [
       "467.56036"
      ]
     },
     "execution_count": 87,
     "metadata": {},
     "output_type": "execute_result"
    }
   ],
   "source": [
    "metric(Ytest, test_predict).numpy()"
   ]
  },
  {
   "cell_type": "code",
   "execution_count": 89,
   "metadata": {},
   "outputs": [
    {
     "data": {
      "image/png": "[encoded data removed]",
      "text/plain": [
       "<Figure size 432x288 with 1 Axes>"
      ]
     },
     "metadata": {
      "needs_background": "light"
     },
     "output_type": "display_data"
    }
   ],
   "source": [
    "#Evaluation of the model on train and test data.\n",
    "\n",
    "look_back=61\n",
    "trainPredictPlot = np.empty_like(df1)\n",
    "trainPredictPlot[:, :] = np.nan\n",
    "trainPredictPlot[look_back:len(train_predict)+look_back, :] = train_predict\n",
    "# shift test predictions for plotting\n",
    "testPredictPlot = np.empty_like(df1)\n",
    "testPredictPlot[:, :] = np.nan\n",
    "testPredictPlot[len(train_predict)+(look_back*2)+1:len(df1)-1, :] = test_predict\n",
    "# plot baseline and predictions\n",
    "plt.plot(scaler.inverse_transform(df1), label='Original Data')\n",
    "plt.plot(trainPredictPlot, label='Train Set Predicted Data')\n",
    "plt.plot(testPredictPlot, label='Test Set Predicted Data')\n",
    "plt.xlabel('Samples')\n",
    "plt.ylabel('Closing Price')\n",
    "plt.legend()\n",
    "plt.show()"
   ]
  },
  {
   "cell_type": "code",
   "execution_count": 90,
   "metadata": {},
   "outputs": [
    {
     "data": {
      "text/plain": [
       "314"
      ]
     },
     "execution_count": 90,
     "metadata": {},
     "output_type": "execute_result"
    }
   ],
   "source": [
    "len(y)"
   ]
  },
  {
   "cell_type": "code",
   "execution_count": 91,
   "metadata": {},
   "outputs": [
    {
     "data": {
      "text/plain": [
       "(1, 60)"
      ]
     },
     "execution_count": 91,
     "metadata": {},
     "output_type": "execute_result"
    }
   ],
   "source": [
    "x_input=np.array(y[254:]).reshape(1,-1)\n",
    "x_input.shape"
   ]
  },
  {
   "cell_type": "code",
   "execution_count": 92,
   "metadata": {},
   "outputs": [
    {
     "data": {
      "text/plain": [
       "[0.7398753870557138,\n",
       " 0.7019729248108293,\n",
       " 0.7071650524227475,\n",
       " 0.6998961331850204,\n",
       " 0.7076842750870989,\n",
       " 0.7133956253633686,\n",
       " 0.6915887686185904,\n",
       " 0.6993769105206689,\n",
       " 0.6843198493808631,\n",
       " 0.6843198493808631,\n",
       " 0.7040498154682355,\n",
       " 0.6713395798668664,\n",
       " 0.6858774183423209,\n",
       " 0.689511877961184,\n",
       " 0.7097611657445049,\n",
       " 0.6941847829087505,\n",
       " 0.6703011345381633,\n",
       " 0.6687434665451086,\n",
       " 0.6656282295905969,\n",
       " 0.6474558324646817,\n",
       " 0.6536864054053031,\n",
       " 0.649532723122088,\n",
       " 0.6230529614297429,\n",
       " 0.657840087688518,\n",
       " 0.6147455968633129,\n",
       " 0.6069573559296371,\n",
       " 0.6105919145800978,\n",
       " 0.6204568481079855,\n",
       " 0.5950155317443436,\n",
       " 0.5815160395659953,\n",
       " 0.5976116450661011,\n",
       " 0.6261681983842549,\n",
       " 0.6188992791465278,\n",
       " 0.6277258663773095,\n",
       " 0.6526479600766002,\n",
       " 0.6458981644716273,\n",
       " 0.6484942777933849,\n",
       " 0.6458981644716273,\n",
       " 0.6344755629506851,\n",
       " 0.6199376254436337,\n",
       " 0.5913810721254795,\n",
       " 0.5664589784261893,\n",
       " 0.5867081671779131,\n",
       " 0.5893042804996709,\n",
       " 0.5571131685310562,\n",
       " 0.5617860734786229,\n",
       " 0.6142263741989613,\n",
       " 0.5908618494611282,\n",
       " 0.5970924224017495,\n",
       " 0.6090342465870431,\n",
       " 0.61370715153461,\n",
       " 0.5981307686988553,\n",
       " 0.6059190096325309,\n",
       " 0.6007268820206131,\n",
       " 0.6183800564821764,\n",
       " 0.6090342465870431,\n",
       " 0.6225337387653913,\n",
       " 0.6344755629506851,\n",
       " 0.6292834353387669,\n",
       " 0.5981307686988553]"
      ]
     },
     "execution_count": 92,
     "metadata": {},
     "output_type": "execute_result"
    }
   ],
   "source": [
    "temp_input=list(x_input)\n",
    "temp_input=temp_input[0].tolist()\n",
    "temp_input"
   ]
  },
  {
   "cell_type": "code",
   "execution_count": 94,
   "metadata": {},
   "outputs": [
    {
     "name": "stdout",
     "output_type": "stream",
     "text": [
      "[0.6220093]\n",
      "61\n",
      "1 day input [0.70197292 0.70716505 0.69989613 0.70768428 0.71339563 0.69158877\n",
      " 0.69937691 0.68431985 0.68431985 0.70404982 0.67133958 0.68587742\n",
      " 0.68951188 0.70976117 0.69418478 0.67030113 0.66874347 0.66562823\n",
      " 0.64745583 0.65368641 0.64953272 0.62305296 0.65784009 0.6147456\n",
      " 0.60695736 0.61059191 0.62045685 0.59501553 0.58151604 0.59761165\n",
      " 0.6261682  0.61889928 0.62772587 0.65264796 0.64589816 0.64849428\n",
      " 0.64589816 0.63447556 0.61993763 0.59138107 0.56645898 0.58670817\n",
      " 0.58930428 0.55711317 0.56178607 0.61422637 0.59086185 0.59709242\n",
      " 0.60903425 0.61370715 0.59813077 0.60591901 0.60072688 0.61838006\n",
      " 0.60903425 0.62253374 0.63447556 0.62928344 0.59813077 0.62200928]\n",
      "1 day output [[0.622751]]\n",
      "2 day input [0.70716505 0.69989613 0.70768428 0.71339563 0.69158877 0.69937691\n",
      " 0.68431985 0.68431985 0.70404982 0.67133958 0.68587742 0.68951188\n",
      " 0.70976117 0.69418478 0.67030113 0.66874347 0.66562823 0.64745583\n",
      " 0.65368641 0.64953272 0.62305296 0.65784009 0.6147456  0.60695736\n",
      " 0.61059191 0.62045685 0.59501553 0.58151604 0.59761165 0.6261682\n",
      " 0.61889928 0.62772587 0.65264796 0.64589816 0.64849428 0.64589816\n",
      " 0.63447556 0.61993763 0.59138107 0.56645898 0.58670817 0.58930428\n",
      " 0.55711317 0.56178607 0.61422637 0.59086185 0.59709242 0.60903425\n",
      " 0.61370715 0.59813077 0.60591901 0.60072688 0.61838006 0.60903425\n",
      " 0.62253374 0.63447556 0.62928344 0.59813077 0.62200928 0.622751  ]\n",
      "2 day output [[0.6230967]]\n",
      "3 day input [0.69989613 0.70768428 0.71339563 0.69158877 0.69937691 0.68431985\n",
      " 0.68431985 0.70404982 0.67133958 0.68587742 0.68951188 0.70976117\n",
      " 0.69418478 0.67030113 0.66874347 0.66562823 0.64745583 0.65368641\n",
      " 0.64953272 0.62305296 0.65784009 0.6147456  0.60695736 0.61059191\n",
      " 0.62045685 0.59501553 0.58151604 0.59761165 0.6261682  0.61889928\n",
      " 0.62772587 0.65264796 0.64589816 0.64849428 0.64589816 0.63447556\n",
      " 0.61993763 0.59138107 0.56645898 0.58670817 0.58930428 0.55711317\n",
      " 0.56178607 0.61422637 0.59086185 0.59709242 0.60903425 0.61370715\n",
      " 0.59813077 0.60591901 0.60072688 0.61838006 0.60903425 0.62253374\n",
      " 0.63447556 0.62928344 0.59813077 0.62200928 0.622751   0.6230967 ]\n",
      "3 day output [[0.62340033]]\n",
      "4 day input [0.70768428 0.71339563 0.69158877 0.69937691 0.68431985 0.68431985\n",
      " 0.70404982 0.67133958 0.68587742 0.68951188 0.70976117 0.69418478\n",
      " 0.67030113 0.66874347 0.66562823 0.64745583 0.65368641 0.64953272\n",
      " 0.62305296 0.65784009 0.6147456  0.60695736 0.61059191 0.62045685\n",
      " 0.59501553 0.58151604 0.59761165 0.6261682  0.61889928 0.62772587\n",
      " 0.65264796 0.64589816 0.64849428 0.64589816 0.63447556 0.61993763\n",
      " 0.59138107 0.56645898 0.58670817 0.58930428 0.55711317 0.56178607\n",
      " 0.61422637 0.59086185 0.59709242 0.60903425 0.61370715 0.59813077\n",
      " 0.60591901 0.60072688 0.61838006 0.60903425 0.62253374 0.63447556\n",
      " 0.62928344 0.59813077 0.62200928 0.622751   0.6230967  0.62340033]\n",
      "4 day output [[0.6238362]]\n",
      "5 day input [0.71339563 0.69158877 0.69937691 0.68431985 0.68431985 0.70404982\n",
      " 0.67133958 0.68587742 0.68951188 0.70976117 0.69418478 0.67030113\n",
      " 0.66874347 0.66562823 0.64745583 0.65368641 0.64953272 0.62305296\n",
      " 0.65784009 0.6147456  0.60695736 0.61059191 0.62045685 0.59501553\n",
      " 0.58151604 0.59761165 0.6261682  0.61889928 0.62772587 0.65264796\n",
      " 0.64589816 0.64849428 0.64589816 0.63447556 0.61993763 0.59138107\n",
      " 0.56645898 0.58670817 0.58930428 0.55711317 0.56178607 0.61422637\n",
      " 0.59086185 0.59709242 0.60903425 0.61370715 0.59813077 0.60591901\n",
      " 0.60072688 0.61838006 0.60903425 0.62253374 0.63447556 0.62928344\n",
      " 0.59813077 0.62200928 0.622751   0.6230967  0.62340033 0.62383622]\n",
      "5 day output [[0.6244535]]\n",
      "6 day input [0.69158877 0.69937691 0.68431985 0.68431985 0.70404982 0.67133958\n",
      " 0.68587742 0.68951188 0.70976117 0.69418478 0.67030113 0.66874347\n",
      " 0.66562823 0.64745583 0.65368641 0.64953272 0.62305296 0.65784009\n",
      " 0.6147456  0.60695736 0.61059191 0.62045685 0.59501553 0.58151604\n",
      " 0.59761165 0.6261682  0.61889928 0.62772587 0.65264796 0.64589816\n",
      " 0.64849428 0.64589816 0.63447556 0.61993763 0.59138107 0.56645898\n",
      " 0.58670817 0.58930428 0.55711317 0.56178607 0.61422637 0.59086185\n",
      " 0.59709242 0.60903425 0.61370715 0.59813077 0.60591901 0.60072688\n",
      " 0.61838006 0.60903425 0.62253374 0.63447556 0.62928344 0.59813077\n",
      " 0.62200928 0.622751   0.6230967  0.62340033 0.62383622 0.62445349]\n",
      "6 day output [[0.6252319]]\n",
      "7 day input [0.69937691 0.68431985 0.68431985 0.70404982 0.67133958 0.68587742\n",
      " 0.68951188 0.70976117 0.69418478 0.67030113 0.66874347 0.66562823\n",
      " 0.64745583 0.65368641 0.64953272 0.62305296 0.65784009 0.6147456\n",
      " 0.60695736 0.61059191 0.62045685 0.59501553 0.58151604 0.59761165\n",
      " 0.6261682  0.61889928 0.62772587 0.65264796 0.64589816 0.64849428\n",
      " 0.64589816 0.63447556 0.61993763 0.59138107 0.56645898 0.58670817\n",
      " 0.58930428 0.55711317 0.56178607 0.61422637 0.59086185 0.59709242\n",
      " 0.60903425 0.61370715 0.59813077 0.60591901 0.60072688 0.61838006\n",
      " 0.60903425 0.62253374 0.63447556 0.62928344 0.59813077 0.62200928\n",
      " 0.622751   0.6230967  0.62340033 0.62383622 0.62445349 0.62523192]\n",
      "7 day output [[0.6261257]]\n",
      "8 day input [0.68431985 0.68431985 0.70404982 0.67133958 0.68587742 0.68951188\n",
      " 0.70976117 0.69418478 0.67030113 0.66874347 0.66562823 0.64745583\n",
      " 0.65368641 0.64953272 0.62305296 0.65784009 0.6147456  0.60695736\n",
      " 0.61059191 0.62045685 0.59501553 0.58151604 0.59761165 0.6261682\n",
      " 0.61889928 0.62772587 0.65264796 0.64589816 0.64849428 0.64589816\n",
      " 0.63447556 0.61993763 0.59138107 0.56645898 0.58670817 0.58930428\n",
      " 0.55711317 0.56178607 0.61422637 0.59086185 0.59709242 0.60903425\n",
      " 0.61370715 0.59813077 0.60591901 0.60072688 0.61838006 0.60903425\n",
      " 0.62253374 0.63447556 0.62928344 0.59813077 0.62200928 0.622751\n",
      " 0.6230967  0.62340033 0.62383622 0.62445349 0.62523192 0.62612569]\n",
      "8 day output [[0.6270883]]\n",
      "9 day input [0.68431985 0.70404982 0.67133958 0.68587742 0.68951188 0.70976117\n",
      " 0.69418478 0.67030113 0.66874347 0.66562823 0.64745583 0.65368641\n",
      " 0.64953272 0.62305296 0.65784009 0.6147456  0.60695736 0.61059191\n",
      " 0.62045685 0.59501553 0.58151604 0.59761165 0.6261682  0.61889928\n",
      " 0.62772587 0.65264796 0.64589816 0.64849428 0.64589816 0.63447556\n",
      " 0.61993763 0.59138107 0.56645898 0.58670817 0.58930428 0.55711317\n",
      " 0.56178607 0.61422637 0.59086185 0.59709242 0.60903425 0.61370715\n",
      " 0.59813077 0.60591901 0.60072688 0.61838006 0.60903425 0.62253374\n",
      " 0.63447556 0.62928344 0.59813077 0.62200928 0.622751   0.6230967\n",
      " 0.62340033 0.62383622 0.62445349 0.62523192 0.62612569 0.62708831]\n",
      "9 day output [[0.6280848]]\n",
      "10 day input [0.70404982 0.67133958 0.68587742 0.68951188 0.70976117 0.69418478\n",
      " 0.67030113 0.66874347 0.66562823 0.64745583 0.65368641 0.64953272\n",
      " 0.62305296 0.65784009 0.6147456  0.60695736 0.61059191 0.62045685\n",
      " 0.59501553 0.58151604 0.59761165 0.6261682  0.61889928 0.62772587\n",
      " 0.65264796 0.64589816 0.64849428 0.64589816 0.63447556 0.61993763\n",
      " 0.59138107 0.56645898 0.58670817 0.58930428 0.55711317 0.56178607\n",
      " 0.61422637 0.59086185 0.59709242 0.60903425 0.61370715 0.59813077\n",
      " 0.60591901 0.60072688 0.61838006 0.60903425 0.62253374 0.63447556\n",
      " 0.62928344 0.59813077 0.62200928 0.622751   0.6230967  0.62340033\n",
      " 0.62383622 0.62445349 0.62523192 0.62612569 0.62708831 0.62808478]\n",
      "10 day output [[0.6290926]]\n",
      "11 day input [0.67133958 0.68587742 0.68951188 0.70976117 0.69418478 0.67030113\n",
      " 0.66874347 0.66562823 0.64745583 0.65368641 0.64953272 0.62305296\n",
      " 0.65784009 0.6147456  0.60695736 0.61059191 0.62045685 0.59501553\n",
      " 0.58151604 0.59761165 0.6261682  0.61889928 0.62772587 0.65264796\n",
      " 0.64589816 0.64849428 0.64589816 0.63447556 0.61993763 0.59138107\n",
      " 0.56645898 0.58670817 0.58930428 0.55711317 0.56178607 0.61422637\n",
      " 0.59086185 0.59709242 0.60903425 0.61370715 0.59813077 0.60591901\n",
      " 0.60072688 0.61838006 0.60903425 0.62253374 0.63447556 0.62928344\n",
      " 0.59813077 0.62200928 0.622751   0.6230967  0.62340033 0.62383622\n",
      " 0.62445349 0.62523192 0.62612569 0.62708831 0.62808478 0.62909257]\n",
      "11 day output [[0.6301006]]\n",
      "12 day input [0.68587742 0.68951188 0.70976117 0.69418478 0.67030113 0.66874347\n",
      " 0.66562823 0.64745583 0.65368641 0.64953272 0.62305296 0.65784009\n",
      " 0.6147456  0.60695736 0.61059191 0.62045685 0.59501553 0.58151604\n",
      " 0.59761165 0.6261682  0.61889928 0.62772587 0.65264796 0.64589816\n",
      " 0.64849428 0.64589816 0.63447556 0.61993763 0.59138107 0.56645898\n",
      " 0.58670817 0.58930428 0.55711317 0.56178607 0.61422637 0.59086185\n",
      " 0.59709242 0.60903425 0.61370715 0.59813077 0.60591901 0.60072688\n",
      " 0.61838006 0.60903425 0.62253374 0.63447556 0.62928344 0.59813077\n",
      " 0.62200928 0.622751   0.6230967  0.62340033 0.62383622 0.62445349\n",
      " 0.62523192 0.62612569 0.62708831 0.62808478 0.62909257 0.63010061]\n",
      "12 day output [[0.63110495]]\n",
      "13 day input [0.68951188 0.70976117 0.69418478 0.67030113 0.66874347 0.66562823\n",
      " 0.64745583 0.65368641 0.64953272 0.62305296 0.65784009 0.6147456\n",
      " 0.60695736 0.61059191 0.62045685 0.59501553 0.58151604 0.59761165\n",
      " 0.6261682  0.61889928 0.62772587 0.65264796 0.64589816 0.64849428\n",
      " 0.64589816 0.63447556 0.61993763 0.59138107 0.56645898 0.58670817\n",
      " 0.58930428 0.55711317 0.56178607 0.61422637 0.59086185 0.59709242\n",
      " 0.60903425 0.61370715 0.59813077 0.60591901 0.60072688 0.61838006\n",
      " 0.60903425 0.62253374 0.63447556 0.62928344 0.59813077 0.62200928\n",
      " 0.622751   0.6230967  0.62340033 0.62383622 0.62445349 0.62523192\n",
      " 0.62612569 0.62708831 0.62808478 0.62909257 0.63010061 0.63110495]\n",
      "13 day output [[0.63210523]]\n",
      "14 day input [0.70976117 0.69418478 0.67030113 0.66874347 0.66562823 0.64745583\n",
      " 0.65368641 0.64953272 0.62305296 0.65784009 0.6147456  0.60695736\n",
      " 0.61059191 0.62045685 0.59501553 0.58151604 0.59761165 0.6261682\n",
      " 0.61889928 0.62772587 0.65264796 0.64589816 0.64849428 0.64589816\n",
      " 0.63447556 0.61993763 0.59138107 0.56645898 0.58670817 0.58930428\n",
      " 0.55711317 0.56178607 0.61422637 0.59086185 0.59709242 0.60903425\n",
      " 0.61370715 0.59813077 0.60591901 0.60072688 0.61838006 0.60903425\n",
      " 0.62253374 0.63447556 0.62928344 0.59813077 0.62200928 0.622751\n",
      " 0.6230967  0.62340033 0.62383622 0.62445349 0.62523192 0.62612569\n",
      " 0.62708831 0.62808478 0.62909257 0.63010061 0.63110495 0.63210523]\n",
      "14 day output [[0.6331025]]\n",
      "15 day input [0.69418478 0.67030113 0.66874347 0.66562823 0.64745583 0.65368641\n",
      " 0.64953272 0.62305296 0.65784009 0.6147456  0.60695736 0.61059191\n",
      " 0.62045685 0.59501553 0.58151604 0.59761165 0.6261682  0.61889928\n",
      " 0.62772587 0.65264796 0.64589816 0.64849428 0.64589816 0.63447556\n",
      " 0.61993763 0.59138107 0.56645898 0.58670817 0.58930428 0.55711317\n",
      " 0.56178607 0.61422637 0.59086185 0.59709242 0.60903425 0.61370715\n",
      " 0.59813077 0.60591901 0.60072688 0.61838006 0.60903425 0.62253374\n",
      " 0.63447556 0.62928344 0.59813077 0.62200928 0.622751   0.6230967\n",
      " 0.62340033 0.62383622 0.62445349 0.62523192 0.62612569 0.62708831\n",
      " 0.62808478 0.62909257 0.63010061 0.63110495 0.63210523 0.63310248]\n",
      "15 day output [[0.6340982]]\n",
      "16 day input [0.67030113 0.66874347 0.66562823 0.64745583 0.65368641 0.64953272\n",
      " 0.62305296 0.65784009 0.6147456  0.60695736 0.61059191 0.62045685\n",
      " 0.59501553 0.58151604 0.59761165 0.6261682  0.61889928 0.62772587\n",
      " 0.65264796 0.64589816 0.64849428 0.64589816 0.63447556 0.61993763\n",
      " 0.59138107 0.56645898 0.58670817 0.58930428 0.55711317 0.56178607\n",
      " 0.61422637 0.59086185 0.59709242 0.60903425 0.61370715 0.59813077\n",
      " 0.60591901 0.60072688 0.61838006 0.60903425 0.62253374 0.63447556\n",
      " 0.62928344 0.59813077 0.62200928 0.622751   0.6230967  0.62340033\n",
      " 0.62383622 0.62445349 0.62523192 0.62612569 0.62708831 0.62808478\n",
      " 0.62909257 0.63010061 0.63110495 0.63210523 0.63310248 0.63409817]\n",
      "16 day output [[0.6350934]]\n",
      "17 day input [0.66874347 0.66562823 0.64745583 0.65368641 0.64953272 0.62305296\n",
      " 0.65784009 0.6147456  0.60695736 0.61059191 0.62045685 0.59501553\n",
      " 0.58151604 0.59761165 0.6261682  0.61889928 0.62772587 0.65264796\n",
      " 0.64589816 0.64849428 0.64589816 0.63447556 0.61993763 0.59138107\n",
      " 0.56645898 0.58670817 0.58930428 0.55711317 0.56178607 0.61422637\n",
      " 0.59086185 0.59709242 0.60903425 0.61370715 0.59813077 0.60591901\n",
      " 0.60072688 0.61838006 0.60903425 0.62253374 0.63447556 0.62928344\n",
      " 0.59813077 0.62200928 0.622751   0.6230967  0.62340033 0.62383622\n",
      " 0.62445349 0.62523192 0.62612569 0.62708831 0.62808478 0.62909257\n",
      " 0.63010061 0.63110495 0.63210523 0.63310248 0.63409817 0.63509339]\n",
      "17 day output [[0.6360887]]\n",
      "18 day input [0.66562823 0.64745583 0.65368641 0.64953272 0.62305296 0.65784009\n",
      " 0.6147456  0.60695736 0.61059191 0.62045685 0.59501553 0.58151604\n",
      " 0.59761165 0.6261682  0.61889928 0.62772587 0.65264796 0.64589816\n",
      " 0.64849428 0.64589816 0.63447556 0.61993763 0.59138107 0.56645898\n",
      " 0.58670817 0.58930428 0.55711317 0.56178607 0.61422637 0.59086185\n",
      " 0.59709242 0.60903425 0.61370715 0.59813077 0.60591901 0.60072688\n",
      " 0.61838006 0.60903425 0.62253374 0.63447556 0.62928344 0.59813077\n",
      " 0.62200928 0.622751   0.6230967  0.62340033 0.62383622 0.62445349\n",
      " 0.62523192 0.62612569 0.62708831 0.62808478 0.62909257 0.63010061\n",
      " 0.63110495 0.63210523 0.63310248 0.63409817 0.63509339 0.63608873]\n",
      "18 day output [[0.6370841]]\n",
      "19 day input [0.64745583 0.65368641 0.64953272 0.62305296 0.65784009 0.6147456\n",
      " 0.60695736 0.61059191 0.62045685 0.59501553 0.58151604 0.59761165\n",
      " 0.6261682  0.61889928 0.62772587 0.65264796 0.64589816 0.64849428\n",
      " 0.64589816 0.63447556 0.61993763 0.59138107 0.56645898 0.58670817\n",
      " 0.58930428 0.55711317 0.56178607 0.61422637 0.59086185 0.59709242\n",
      " 0.60903425 0.61370715 0.59813077 0.60591901 0.60072688 0.61838006\n",
      " 0.60903425 0.62253374 0.63447556 0.62928344 0.59813077 0.62200928\n",
      " 0.622751   0.6230967  0.62340033 0.62383622 0.62445349 0.62523192\n",
      " 0.62612569 0.62708831 0.62808478 0.62909257 0.63010061 0.63110495\n",
      " 0.63210523 0.63310248 0.63409817 0.63509339 0.63608873 0.63708413]\n",
      "19 day output [[0.63807964]]\n",
      "20 day input [0.65368641 0.64953272 0.62305296 0.65784009 0.6147456  0.60695736\n",
      " 0.61059191 0.62045685 0.59501553 0.58151604 0.59761165 0.6261682\n",
      " 0.61889928 0.62772587 0.65264796 0.64589816 0.64849428 0.64589816\n",
      " 0.63447556 0.61993763 0.59138107 0.56645898 0.58670817 0.58930428\n",
      " 0.55711317 0.56178607 0.61422637 0.59086185 0.59709242 0.60903425\n",
      " 0.61370715 0.59813077 0.60591901 0.60072688 0.61838006 0.60903425\n",
      " 0.62253374 0.63447556 0.62928344 0.59813077 0.62200928 0.622751\n",
      " 0.6230967  0.62340033 0.62383622 0.62445349 0.62523192 0.62612569\n",
      " 0.62708831 0.62808478 0.62909257 0.63010061 0.63110495 0.63210523\n",
      " 0.63310248 0.63409817 0.63509339 0.63608873 0.63708413 0.63807964]\n",
      "20 day output [[0.6390753]]\n",
      "21 day input [0.64953272 0.62305296 0.65784009 0.6147456  0.60695736 0.61059191\n",
      " 0.62045685 0.59501553 0.58151604 0.59761165 0.6261682  0.61889928\n",
      " 0.62772587 0.65264796 0.64589816 0.64849428 0.64589816 0.63447556\n",
      " 0.61993763 0.59138107 0.56645898 0.58670817 0.58930428 0.55711317\n",
      " 0.56178607 0.61422637 0.59086185 0.59709242 0.60903425 0.61370715\n",
      " 0.59813077 0.60591901 0.60072688 0.61838006 0.60903425 0.62253374\n",
      " 0.63447556 0.62928344 0.59813077 0.62200928 0.622751   0.6230967\n",
      " 0.62340033 0.62383622 0.62445349 0.62523192 0.62612569 0.62708831\n",
      " 0.62808478 0.62909257 0.63010061 0.63110495 0.63210523 0.63310248\n",
      " 0.63409817 0.63509339 0.63608873 0.63708413 0.63807964 0.63907528]\n",
      "21 day output [[0.64007074]]\n",
      "22 day input [0.62305296 0.65784009 0.6147456  0.60695736 0.61059191 0.62045685\n",
      " 0.59501553 0.58151604 0.59761165 0.6261682  0.61889928 0.62772587\n",
      " 0.65264796 0.64589816 0.64849428 0.64589816 0.63447556 0.61993763\n",
      " 0.59138107 0.56645898 0.58670817 0.58930428 0.55711317 0.56178607\n",
      " 0.61422637 0.59086185 0.59709242 0.60903425 0.61370715 0.59813077\n",
      " 0.60591901 0.60072688 0.61838006 0.60903425 0.62253374 0.63447556\n",
      " 0.62928344 0.59813077 0.62200928 0.622751   0.6230967  0.62340033\n",
      " 0.62383622 0.62445349 0.62523192 0.62612569 0.62708831 0.62808478\n",
      " 0.62909257 0.63010061 0.63110495 0.63210523 0.63310248 0.63409817\n",
      " 0.63509339 0.63608873 0.63708413 0.63807964 0.63907528 0.64007074]\n",
      "22 day output [[0.6410662]]\n",
      "23 day input [0.65784009 0.6147456  0.60695736 0.61059191 0.62045685 0.59501553\n",
      " 0.58151604 0.59761165 0.6261682  0.61889928 0.62772587 0.65264796\n",
      " 0.64589816 0.64849428 0.64589816 0.63447556 0.61993763 0.59138107\n",
      " 0.56645898 0.58670817 0.58930428 0.55711317 0.56178607 0.61422637\n",
      " 0.59086185 0.59709242 0.60903425 0.61370715 0.59813077 0.60591901\n",
      " 0.60072688 0.61838006 0.60903425 0.62253374 0.63447556 0.62928344\n",
      " 0.59813077 0.62200928 0.622751   0.6230967  0.62340033 0.62383622\n",
      " 0.62445349 0.62523192 0.62612569 0.62708831 0.62808478 0.62909257\n",
      " 0.63010061 0.63110495 0.63210523 0.63310248 0.63409817 0.63509339\n",
      " 0.63608873 0.63708413 0.63807964 0.63907528 0.64007074 0.64106619]\n",
      "23 day output [[0.64206153]]\n",
      "24 day input [0.6147456  0.60695736 0.61059191 0.62045685 0.59501553 0.58151604\n",
      " 0.59761165 0.6261682  0.61889928 0.62772587 0.65264796 0.64589816\n",
      " 0.64849428 0.64589816 0.63447556 0.61993763 0.59138107 0.56645898\n",
      " 0.58670817 0.58930428 0.55711317 0.56178607 0.61422637 0.59086185\n",
      " 0.59709242 0.60903425 0.61370715 0.59813077 0.60591901 0.60072688\n",
      " 0.61838006 0.60903425 0.62253374 0.63447556 0.62928344 0.59813077\n",
      " 0.62200928 0.622751   0.6230967  0.62340033 0.62383622 0.62445349\n",
      " 0.62523192 0.62612569 0.62708831 0.62808478 0.62909257 0.63010061\n",
      " 0.63110495 0.63210523 0.63310248 0.63409817 0.63509339 0.63608873\n",
      " 0.63708413 0.63807964 0.63907528 0.64007074 0.64106619 0.64206153]\n",
      "24 day output [[0.6430568]]\n",
      "25 day input [0.60695736 0.61059191 0.62045685 0.59501553 0.58151604 0.59761165\n",
      " 0.6261682  0.61889928 0.62772587 0.65264796 0.64589816 0.64849428\n",
      " 0.64589816 0.63447556 0.61993763 0.59138107 0.56645898 0.58670817\n",
      " 0.58930428 0.55711317 0.56178607 0.61422637 0.59086185 0.59709242\n",
      " 0.60903425 0.61370715 0.59813077 0.60591901 0.60072688 0.61838006\n",
      " 0.60903425 0.62253374 0.63447556 0.62928344 0.59813077 0.62200928\n",
      " 0.622751   0.6230967  0.62340033 0.62383622 0.62445349 0.62523192\n",
      " 0.62612569 0.62708831 0.62808478 0.62909257 0.63010061 0.63110495\n",
      " 0.63210523 0.63310248 0.63409817 0.63509339 0.63608873 0.63708413\n",
      " 0.63807964 0.63907528 0.64007074 0.64106619 0.64206153 0.64305681]\n",
      "25 day output [[0.6440522]]\n",
      "26 day input [0.61059191 0.62045685 0.59501553 0.58151604 0.59761165 0.6261682\n",
      " 0.61889928 0.62772587 0.65264796 0.64589816 0.64849428 0.64589816\n",
      " 0.63447556 0.61993763 0.59138107 0.56645898 0.58670817 0.58930428\n",
      " 0.55711317 0.56178607 0.61422637 0.59086185 0.59709242 0.60903425\n",
      " 0.61370715 0.59813077 0.60591901 0.60072688 0.61838006 0.60903425\n",
      " 0.62253374 0.63447556 0.62928344 0.59813077 0.62200928 0.622751\n",
      " 0.6230967  0.62340033 0.62383622 0.62445349 0.62523192 0.62612569\n",
      " 0.62708831 0.62808478 0.62909257 0.63010061 0.63110495 0.63210523\n",
      " 0.63310248 0.63409817 0.63509339 0.63608873 0.63708413 0.63807964\n",
      " 0.63907528 0.64007074 0.64106619 0.64206153 0.64305681 0.64405221]\n",
      "26 day output [[0.6450476]]\n",
      "27 day input [0.62045685 0.59501553 0.58151604 0.59761165 0.6261682  0.61889928\n",
      " 0.62772587 0.65264796 0.64589816 0.64849428 0.64589816 0.63447556\n",
      " 0.61993763 0.59138107 0.56645898 0.58670817 0.58930428 0.55711317\n",
      " 0.56178607 0.61422637 0.59086185 0.59709242 0.60903425 0.61370715\n",
      " 0.59813077 0.60591901 0.60072688 0.61838006 0.60903425 0.62253374\n",
      " 0.63447556 0.62928344 0.59813077 0.62200928 0.622751   0.6230967\n",
      " 0.62340033 0.62383622 0.62445349 0.62523192 0.62612569 0.62708831\n",
      " 0.62808478 0.62909257 0.63010061 0.63110495 0.63210523 0.63310248\n",
      " 0.63409817 0.63509339 0.63608873 0.63708413 0.63807964 0.63907528\n",
      " 0.64007074 0.64106619 0.64206153 0.64305681 0.64405221 0.64504761]\n",
      "27 day output [[0.6460429]]\n",
      "28 day input [0.59501553 0.58151604 0.59761165 0.6261682  0.61889928 0.62772587\n",
      " 0.65264796 0.64589816 0.64849428 0.64589816 0.63447556 0.61993763\n",
      " 0.59138107 0.56645898 0.58670817 0.58930428 0.55711317 0.56178607\n",
      " 0.61422637 0.59086185 0.59709242 0.60903425 0.61370715 0.59813077\n",
      " 0.60591901 0.60072688 0.61838006 0.60903425 0.62253374 0.63447556\n",
      " 0.62928344 0.59813077 0.62200928 0.622751   0.6230967  0.62340033\n",
      " 0.62383622 0.62445349 0.62523192 0.62612569 0.62708831 0.62808478\n",
      " 0.62909257 0.63010061 0.63110495 0.63210523 0.63310248 0.63409817\n",
      " 0.63509339 0.63608873 0.63708413 0.63807964 0.63907528 0.64007074\n",
      " 0.64106619 0.64206153 0.64305681 0.64405221 0.64504761 0.64604288]\n",
      "28 day output [[0.6470383]]\n",
      "29 day input [0.58151604 0.59761165 0.6261682  0.61889928 0.62772587 0.65264796\n",
      " 0.64589816 0.64849428 0.64589816 0.63447556 0.61993763 0.59138107\n",
      " 0.56645898 0.58670817 0.58930428 0.55711317 0.56178607 0.61422637\n",
      " 0.59086185 0.59709242 0.60903425 0.61370715 0.59813077 0.60591901\n",
      " 0.60072688 0.61838006 0.60903425 0.62253374 0.63447556 0.62928344\n",
      " 0.59813077 0.62200928 0.622751   0.6230967  0.62340033 0.62383622\n",
      " 0.62445349 0.62523192 0.62612569 0.62708831 0.62808478 0.62909257\n",
      " 0.63010061 0.63110495 0.63210523 0.63310248 0.63409817 0.63509339\n",
      " 0.63608873 0.63708413 0.63807964 0.63907528 0.64007074 0.64106619\n",
      " 0.64206153 0.64305681 0.64405221 0.64504761 0.64604288 0.64703828]\n",
      "29 day output [[0.6480337]]\n",
      "[[0.62200927734375], [0.622750997543335], [0.6230967044830322], [0.6234003305435181], [0.6238362193107605], [0.6244534850120544], [0.625231921672821], [0.626125693321228], [0.6270883083343506], [0.6280847787857056], [0.6290925741195679], [0.6301006078720093], [0.6311049461364746], [0.6321052312850952], [0.6331024765968323], [0.6340981721878052], [0.6350933909416199], [0.6360887289047241], [0.6370841264724731], [0.6380796432495117], [0.6390752792358398], [0.6400707364082336], [0.6410661935806274], [0.6420615315437317], [0.6430568099021912], [0.6440522074699402], [0.6450476050376892], [0.6460428833961487], [0.6470382809638977], [0.6480336785316467]]\n"
     ]
    }
   ],
   "source": [
    "from numpy import array\n",
    "\n",
    "lst_output=[]\n",
    "n_steps=60\n",
    "i=0\n",
    "while(i<30):\n",
    "    \n",
    "    if(len(temp_input))>60:\n",
    "        #print(temp_input)\n",
    "        x_input=np.array(temp_input[1:])\n",
    "        print(\"{} day input {}\".format(i,x_input))\n",
    "        x_input=x_input.reshape(1,-1)\n",
    "        x_input = x_input.reshape((1, n_steps, 1))\n",
    "        #print(x_input)\n",
    "        yhat = model.predict(x_input, verbose=0)\n",
    "        print(\"{} day output {}\".format(i,yhat))\n",
    "        temp_input.extend(yhat[0].tolist())\n",
    "        temp_input=temp_input[1:]\n",
    "        #print(temp_input)\n",
    "        lst_output.extend(yhat.tolist())\n",
    "        i=i+1\n",
    "    else:\n",
    "        x_input = x_input.reshape((1, n_steps,1))\n",
    "        yhat = model.predict(x_input, verbose=0)\n",
    "        print(yhat[0])\n",
    "        temp_input.extend(yhat[0].tolist())\n",
    "        print(len(temp_input))\n",
    "        lst_output.extend(yhat.tolist())\n",
    "        i=i+1\n",
    "    \n",
    "\n",
    "print(lst_output)"
   ]
  },
  {
   "cell_type": "code",
   "execution_count": 95,
   "metadata": {},
   "outputs": [],
   "source": [
    "day_new=np.arange(1,61)\n",
    "day_pred=np.arange(61,91)"
   ]
  },
  {
   "cell_type": "code",
   "execution_count": 96,
   "metadata": {},
   "outputs": [
    {
     "data": {
      "text/plain": [
       "[<matplotlib.lines.Line2D at 0x1cd3ed86370>]"
      ]
     },
     "execution_count": 96,
     "metadata": {},
     "output_type": "execute_result"
    },
    {
     "data": {
      "image/png": "[encoded data removed]",
      "text/plain": [
       "<Figure size 432x288 with 1 Axes>"
      ]
     },
     "metadata": {
      "needs_background": "light"
     },
     "output_type": "display_data"
    }
   ],
   "source": [
    "plt.plot(day_new,scaler.inverse_transform(df1[1198:]))\n",
    "plt.plot(day_pred,scaler.inverse_transform(lst_output))"
   ]
  },
  {
   "cell_type": "code",
   "execution_count": 97,
   "metadata": {},
   "outputs": [
    {
     "data": {
      "text/plain": [
       "[<matplotlib.lines.Line2D at 0x1cd3ecd6d30>]"
      ]
     },
     "execution_count": 97,
     "metadata": {},
     "output_type": "execute_result"
    },
    {
     "data": {
      "image/png": "[encoded data removed]",
      "text/plain": [
       "<Figure size 432x288 with 1 Axes>"
      ]
     },
     "metadata": {
      "needs_background": "light"
     },
     "output_type": "display_data"
    }
   ],
   "source": [
    "df3=df1.tolist()\n",
    "df3.extend(lst_output)\n",
    "plt.plot(df3[1200:])"
   ]
  },
  {
   "cell_type": "code",
   "execution_count": 98,
   "metadata": {},
   "outputs": [
    {
     "data": {
      "text/plain": [
       "[<matplotlib.lines.Line2D at 0x1cd3ebf0f70>]"
      ]
     },
     "execution_count": 98,
     "metadata": {},
     "output_type": "execute_result"
    },
    {
     "data": {
      "image/png": "[encoded data removed]",
      "text/plain": [
       "<Figure size 432x288 with 1 Axes>"
      ]
     },
     "metadata": {
      "needs_background": "light"
     },
     "output_type": "display_data"
    }
   ],
   "source": [
    "df3=scaler.inverse_transform(df3).tolist()\n",
    "plt.plot(df3)"
   ]
  }
 ],
 "metadata": {
  "kernelspec": {
   "display_name": "Python 3.10.5 ('nugget')",
   "language": "python",
   "name": "python3"
  },
  "language_info": {
   "codemirror_mode": {
    "name": "ipython",
    "version": 3
   },
   "file_extension": ".py",
   "mimetype": "text/x-python",
   "name": "python",
   "nbconvert_exporter": "python",
   "pygments_lexer": "ipython3",
   "version": "3.9.0"
  },
  "orig_nbformat": 4,
  "vscode": {
   "interpreter": {
    "hash": "2eae1c96c9dd62d2089c5c8e55a6329415a90bdf1dc6799a664937c8a714466b"
   }
  }
 },
 "nbformat": 4,
 "nbformat_minor": 2
}
