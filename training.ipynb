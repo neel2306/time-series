{
 "cells": [
  {
   "cell_type": "code",
   "execution_count": 1,
   "metadata": {},
   "outputs": [],
   "source": [
    "import pandas_datareader as pdr\n",
    "import pandas as pd"
   ]
  },
  {
   "cell_type": "code",
   "execution_count": 2,
   "metadata": {},
   "outputs": [
    {
     "data": {
      "text/plain": [
       "True"
      ]
     },
     "execution_count": 2,
     "metadata": {},
     "output_type": "execute_result"
    }
   ],
   "source": [
    "def get_data():\n",
    "    temp = pdr.get_data_yahoo('INFY')\n",
    "    temp.to_csv('C:\\Codes\\Time-Series\\Data\\infosys.csv')\n",
    "    return True\n",
    "get_data() #To work with data extracted."
   ]
  },
  {
   "cell_type": "markdown",
   "metadata": {},
   "source": [
    "# EDA"
   ]
  },
  {
   "cell_type": "code",
   "execution_count": 3,
   "metadata": {},
   "outputs": [
    {
     "name": "stdout",
     "output_type": "stream",
     "text": [
      "             High    Low   Open  Close      Volume  Adj Close\n",
      "Date                                                         \n",
      "2017-07-13  7.825  7.735  7.775  7.780  20329000.0   6.792685\n",
      "2017-07-14  7.965  7.750  7.775  7.835  23331800.0   6.840705\n",
      "2017-07-17  7.870  7.730  7.860  7.820  14512400.0   6.827609\n",
      "2017-07-18  7.840  7.710  7.800  7.775  12970800.0   6.788320\n",
      "2017-07-19  7.785  7.675  7.780  7.690  15647400.0   6.714106\n"
     ]
    }
   ],
   "source": [
    "df = pd.read_csv('C:\\Codes\\Time-Series\\Data\\infosys.csv')    #Reading the data.\n",
    "df.index = pd.to_datetime(df['Date'], format = \"%Y.%m.%d\")   #Changing index to datetime dtype.\n",
    "df.drop(columns='Date', inplace=True)                        #Dropping the existing date column.\n",
    "print(df.head())"
   ]
  },
  {
   "cell_type": "code",
   "execution_count": 4,
   "metadata": {},
   "outputs": [
    {
     "name": "stdout",
     "output_type": "stream",
     "text": [
      "                 High        Low       Open      Close      Volume  Adj Close\n",
      "Date                                                                         \n",
      "2022-07-06  19.020000  18.700001  18.700001  18.930000   8860200.0  18.930000\n",
      "2022-07-07  19.180000  18.900000  18.990000  19.160000   9675500.0  19.160000\n",
      "2022-07-08  19.160000  18.760000  19.049999  19.059999  15835100.0  19.059999\n",
      "2022-07-11  18.590000  18.230000  18.500000  18.459999   7908800.0  18.459999\n",
      "2022-07-12  18.370001  18.110001  18.190001  18.209999  12463200.0  18.209999\n"
     ]
    }
   ],
   "source": [
    "print(df.tail())"
   ]
  },
  {
   "cell_type": "code",
   "execution_count": 5,
   "metadata": {},
   "outputs": [
    {
     "name": "stdout",
     "output_type": "stream",
     "text": [
      "              High          Low         Open        Close        Volume  \\\n",
      "count  1258.000000  1258.000000  1258.000000  1258.000000  1.258000e+03   \n",
      "mean     13.605711    13.375636    13.489956    13.493617  1.046695e+07   \n",
      "std       5.506417     5.418305     5.463490     5.465214  6.557974e+06   \n",
      "min       7.155000     6.760000     6.920000     6.940000  1.320600e+06   \n",
      "25%       9.371250     9.170000     9.261250     9.270000  6.531225e+06   \n",
      "50%      10.875000    10.730000    10.820000    10.775000  8.877450e+06   \n",
      "75%      18.532499    18.172500    18.342500    18.352500  1.249860e+07   \n",
      "max      26.389999    25.580000    26.150000    26.200001  7.716540e+07   \n",
      "\n",
      "         Adj Close  \n",
      "count  1258.000000  \n",
      "mean     12.863292  \n",
      "std       5.663839  \n",
      "min       6.225173  \n",
      "25%       8.588130  \n",
      "50%      10.005213  \n",
      "75%      17.881565  \n",
      "max      25.910423  \n"
     ]
    }
   ],
   "source": [
    "print(df.describe())"
   ]
  },
  {
   "cell_type": "code",
   "execution_count": 6,
   "metadata": {},
   "outputs": [
    {
     "name": "stdout",
     "output_type": "stream",
     "text": [
      "High         False\n",
      "Low          False\n",
      "Open         False\n",
      "Close        False\n",
      "Volume       False\n",
      "Adj Close    False\n",
      "dtype: bool\n"
     ]
    }
   ],
   "source": [
    "print(df.isnull().any(axis=0))  #No null values."
   ]
  },
  {
   "cell_type": "code",
   "execution_count": 8,
   "metadata": {},
   "outputs": [
    {
     "data": {
      "text/plain": [
       "<matplotlib.axes._subplots.AxesSubplot at 0x25c77afa370>"
      ]
     },
     "execution_count": 8,
     "metadata": {},
     "output_type": "execute_result"
    },
    {
     "data": {
      "image/png": "[encoded data removed]",
      "text/plain": [
       "<Figure size 432x288 with 2 Axes>"
      ]
     },
     "metadata": {
      "needs_background": "light"
     },
     "output_type": "display_data"
    }
   ],
   "source": [
    "import seaborn as sns\n",
    "sns.heatmap(df.corr(), cmap = 'BuGn', annot=True)"
   ]
  },
  {
   "cell_type": "code",
   "execution_count": 9,
   "metadata": {},
   "outputs": [],
   "source": [
    "#We are only going to be working with the close value.\n",
    "df.drop(columns=['Volume','High','Low','Open','Adj Close'], inplace=True)"
   ]
  },
  {
   "cell_type": "code",
   "execution_count": 10,
   "metadata": {},
   "outputs": [
    {
     "data": {
      "text/html": [
       "<div>\n",
       "<style scoped>\n",
       "    .dataframe tbody tr th:only-of-type {\n",
       "        vertical-align: middle;\n",
       "    }\n",
       "\n",
       "    .dataframe tbody tr th {\n",
       "        vertical-align: top;\n",
       "    }\n",
       "\n",
       "    .dataframe thead th {\n",
       "        text-align: right;\n",
       "    }\n",
       "</style>\n",
       "<table border=\"1\" class=\"dataframe\">\n",
       "  <thead>\n",
       "    <tr style=\"text-align: right;\">\n",
       "      <th></th>\n",
       "      <th>Close</th>\n",
       "    </tr>\n",
       "    <tr>\n",
       "      <th>Date</th>\n",
       "      <th></th>\n",
       "    </tr>\n",
       "  </thead>\n",
       "  <tbody>\n",
       "    <tr>\n",
       "      <th>2017-07-13</th>\n",
       "      <td>7.780</td>\n",
       "    </tr>\n",
       "    <tr>\n",
       "      <th>2017-07-14</th>\n",
       "      <td>7.835</td>\n",
       "    </tr>\n",
       "    <tr>\n",
       "      <th>2017-07-17</th>\n",
       "      <td>7.820</td>\n",
       "    </tr>\n",
       "    <tr>\n",
       "      <th>2017-07-18</th>\n",
       "      <td>7.775</td>\n",
       "    </tr>\n",
       "    <tr>\n",
       "      <th>2017-07-19</th>\n",
       "      <td>7.690</td>\n",
       "    </tr>\n",
       "  </tbody>\n",
       "</table>\n",
       "</div>"
      ],
      "text/plain": [
       "            Close\n",
       "Date             \n",
       "2017-07-13  7.780\n",
       "2017-07-14  7.835\n",
       "2017-07-17  7.820\n",
       "2017-07-18  7.775\n",
       "2017-07-19  7.690"
      ]
     },
     "execution_count": 10,
     "metadata": {},
     "output_type": "execute_result"
    }
   ],
   "source": [
    "df.head()"
   ]
  },
  {
   "cell_type": "code",
   "execution_count": 11,
   "metadata": {},
   "outputs": [],
   "source": [
    "#Saving it to a different csv file.\n",
    "df.to_csv('C:\\Codes\\Time-Series\\Data\\closeInfosys.csv')"
   ]
  },
  {
   "cell_type": "markdown",
   "metadata": {},
   "source": [
    "# Data-Preprocessing"
   ]
  },
  {
   "cell_type": "code",
   "execution_count": 12,
   "metadata": {},
   "outputs": [
    {
     "name": "stdout",
     "output_type": "stream",
     "text": [
      "         Date  Close\n",
      "0  2017-07-13  7.780\n",
      "1  2017-07-14  7.835\n",
      "2  2017-07-17  7.820\n",
      "3  2017-07-18  7.775\n",
      "4  2017-07-19  7.690\n"
     ]
    }
   ],
   "source": [
    "closeDF = pd.read_csv('C:\\Codes\\Time-Series\\Data\\closeInfosys.csv')\n",
    "print(closeDF.head())"
   ]
  },
  {
   "cell_type": "code",
   "execution_count": 13,
   "metadata": {},
   "outputs": [],
   "source": [
    "closeDF.set_index(closeDF['Date'],drop=True, inplace=True)  #Setting the index column as the date column."
   ]
  },
  {
   "cell_type": "code",
   "execution_count": 14,
   "metadata": {},
   "outputs": [],
   "source": [
    "closeDF.drop(columns='Date', inplace=True)                  #Dropping the existing date column."
   ]
  },
  {
   "cell_type": "code",
   "execution_count": 15,
   "metadata": {},
   "outputs": [
    {
     "name": "stdout",
     "output_type": "stream",
     "text": [
      "            Close\n",
      "Date             \n",
      "2017-07-13  7.780\n",
      "2017-07-14  7.835\n",
      "2017-07-17  7.820\n",
      "2017-07-18  7.775\n",
      "2017-07-19  7.690\n"
     ]
    }
   ],
   "source": [
    "print(closeDF.head())"
   ]
  },
  {
   "cell_type": "code",
   "execution_count": 16,
   "metadata": {},
   "outputs": [
    {
     "data": {
      "image/png": "[encoded data removed]",
      "text/plain": [
       "<Figure size 432x288 with 1 Axes>"
      ]
     },
     "metadata": {
      "needs_background": "light"
     },
     "output_type": "display_data"
    }
   ],
   "source": [
    "#Getting the moving average and deviation.\n",
    "data_mean = closeDF['Close'].rolling(window=23).mean()\n",
    "data_std = closeDF['Close'].rolling(window=23).std()\n",
    "\n",
    "#Plotting the results.\n",
    "from matplotlib import pyplot as plt\n",
    "plt.plot(closeDF['Close'], color='green', label='Original Data')\n",
    "plt.plot(data_mean, color=\"yellow\", label=\"Rolling mean\")\n",
    "plt.plot(data_std, color='red', label='Deviation')\n",
    "plt.legend(loc='best')\n",
    "plt.title('Original VS Mean VS Std')\n",
    "plt.show()"
   ]
  },
  {
   "cell_type": "code",
   "execution_count": 17,
   "metadata": {},
   "outputs": [
    {
     "name": "stdout",
     "output_type": "stream",
     "text": [
      "(1258, 1)\n"
     ]
    }
   ],
   "source": [
    "from sklearn.preprocessing import MinMaxScaler\n",
    "import numpy as np\n",
    "\n",
    "#Normalizing the data.\n",
    "scaler = MinMaxScaler(feature_range=(0,1))\n",
    "df1 = scaler.fit_transform(np.array(closeDF['Close']).reshape(-1,1))\n",
    "print(df1.shape)"
   ]
  },
  {
   "cell_type": "code",
   "execution_count": 18,
   "metadata": {},
   "outputs": [],
   "source": [
    "closeDF.dropna(inplace=True) #Dropping all the null values."
   ]
  },
  {
   "cell_type": "code",
   "execution_count": 19,
   "metadata": {},
   "outputs": [],
   "source": [
    "def split_data(data): \n",
    "\n",
    "    '''\n",
    "    A function to split the data into  train and validation sets.\n",
    "    '''\n",
    "    train_size = int(len(data) * 0.70)\n",
    "    test_size = int(len(data) - train_size)\n",
    "    train_data, test_data = data[0:train_size,:],data[train_size:len(df1),:1]\n",
    "    print(train_size, test_size)\n",
    "    return train_data, test_data"
   ]
  },
  {
   "cell_type": "code",
   "execution_count": 20,
   "metadata": {},
   "outputs": [
    {
     "name": "stdout",
     "output_type": "stream",
     "text": [
      "880 378\n"
     ]
    }
   ],
   "source": [
    "X,Y = split_data(df1) #Splitting the data into train and validation sets."
   ]
  },
  {
   "cell_type": "code",
   "execution_count": 21,
   "metadata": {},
   "outputs": [],
   "source": [
    "#Saving the numpy arrays in a csv file.\n",
    "np.savetxt('C:\\\\Codes\\\\Time-Series\\\\Data\\\\train_data.csv', X)\n",
    "np.savetxt('C:\\\\Codes\\\\Time-Series\\\\Data\\\\test_data.csv', Y)"
   ]
  },
  {
   "cell_type": "code",
   "execution_count": 22,
   "metadata": {},
   "outputs": [],
   "source": [
    "#Reading the data saved earlier.\n",
    "x = pd.read_csv(\"C:\\\\Codes\\\\Time-Series\\\\Data\\\\train_data.csv\")  #Train Data.\n",
    "y = pd.read_csv(\"C:\\\\Codes\\\\Time-Series\\\\Data\\\\test_data.csv\")   #Test Data."
   ]
  },
  {
   "cell_type": "code",
   "execution_count": 23,
   "metadata": {},
   "outputs": [],
   "source": [
    "def dataset_matrix(dataset, timestep):\n",
    "    '''\n",
    "    Function to generate a data matrix depending upon the time stamps taken into consideration for the forecasting.\n",
    "    '''\n",
    "    X_data, Y_data = [], []\n",
    "    for i in range(len(dataset)-timestep-1):\n",
    "        flag_X = dataset.iloc[i:(i+timestep), 0]\n",
    "        flag_Y = dataset.iloc[(i+timestep),0]\n",
    "        X_data.append(flag_X)\n",
    "        Y_data.append(flag_Y)\n",
    "    return np.array(X_data), np.array(Y_data)"
   ]
  },
  {
   "cell_type": "code",
   "execution_count": 24,
   "metadata": {},
   "outputs": [],
   "source": [
    "timestep = 23\n",
    "Xtrain, Ytrain = dataset_matrix(x, timestep)\n",
    "Xtest, Ytest = dataset_matrix(y, timestep)"
   ]
  },
  {
   "cell_type": "code",
   "execution_count": 25,
   "metadata": {},
   "outputs": [
    {
     "name": "stdout",
     "output_type": "stream",
     "text": [
      "(855, 23) \n",
      " (855,) \n",
      " (353, 23) \n",
      " (353,)\n"
     ]
    }
   ],
   "source": [
    "print(Xtrain.shape,'\\n',Ytrain.shape,'\\n',Xtest.shape,'\\n',Ytest.shape)"
   ]
  },
  {
   "cell_type": "code",
   "execution_count": 26,
   "metadata": {},
   "outputs": [],
   "source": [
    "#Reshaping the data to feed it into the LSTM model.\n",
    "Xtrain = Xtrain.reshape(Xtrain.shape[0], Xtrain.shape[1], 1) \n",
    "Xtest = Xtest.reshape(Xtest.shape[0], Xtest.shape[1], 1)"
   ]
  },
  {
   "cell_type": "markdown",
   "metadata": {},
   "source": [
    "# Bulding the Model."
   ]
  },
  {
   "cell_type": "code",
   "execution_count": 27,
   "metadata": {},
   "outputs": [
    {
     "name": "stdout",
     "output_type": "stream",
     "text": [
      "Model: \"sequential\"\n",
      "_________________________________________________________________\n",
      "Layer (type)                 Output Shape              Param #   \n",
      "=================================================================\n",
      "lstm (LSTM)                  (None, 23, 50)            10400     \n",
      "_________________________________________________________________\n",
      "dropout (Dropout)            (None, 23, 50)            0         \n",
      "_________________________________________________________________\n",
      "lstm_1 (LSTM)                (None, 23, 50)            20200     \n",
      "_________________________________________________________________\n",
      "dropout_1 (Dropout)          (None, 23, 50)            0         \n",
      "_________________________________________________________________\n",
      "lstm_2 (LSTM)                (None, 50)                20200     \n",
      "_________________________________________________________________\n",
      "dense (Dense)                (None, 1)                 51        \n",
      "=================================================================\n",
      "Total params: 50,851\n",
      "Trainable params: 50,851\n",
      "Non-trainable params: 0\n",
      "_________________________________________________________________\n",
      "None\n"
     ]
    }
   ],
   "source": [
    "from keras.layers import Dense, Dropout, LSTM\n",
    "from keras.models import Sequential\n",
    "\n",
    "#Bulding blocks of the model.\n",
    "model = Sequential()\n",
    "model.add(LSTM(50,activation='relu',return_sequences=True, input_shape=(23,1)))\n",
    "model.add(Dropout(0.3))\n",
    "model.add(LSTM(50,activation='relu', return_sequences=True))\n",
    "model.add(Dropout(0.3))\n",
    "model.add(LSTM(50, activation='relu', return_sequences=False))\n",
    "model.add(Dense(1))\n",
    "model.compile(optimizer='adam', loss='mean_squared_error')\n",
    "print(model.summary())"
   ]
  },
  {
   "cell_type": "code",
   "execution_count": 28,
   "metadata": {},
   "outputs": [],
   "source": [
    "from keras.callbacks import CSVLogger, ModelCheckpoint,EarlyStopping  \n",
    "csv_logger = CSVLogger('training.log', separator = ';')\n",
    "checkpoint = ModelCheckpoint('lstm_model.h5', monitor = 'val_loss', verbose = 1, save_best_only = True)\n",
    "early = EarlyStopping(monitor = 'val_loss', patience = 20)"
   ]
  },
  {
   "cell_type": "code",
   "execution_count": 29,
   "metadata": {},
   "outputs": [
    {
     "name": "stdout",
     "output_type": "stream",
     "text": [
      "Epoch 1/100\n",
      "14/14 [==============================] - 8s 112ms/step - loss: 0.0248 - val_loss: 0.1557\n",
      "\n",
      "Epoch 00001: val_loss improved from inf to 0.15568, saving model to lstm_model.h5\n",
      "Epoch 2/100\n",
      "14/14 [==============================] - 1s 51ms/step - loss: 0.0081 - val_loss: 0.1270\n",
      "\n",
      "Epoch 00002: val_loss improved from 0.15568 to 0.12700, saving model to lstm_model.h5\n",
      "Epoch 3/100\n",
      "14/14 [==============================] - 1s 52ms/step - loss: 0.0035 - val_loss: 0.2030\n",
      "\n",
      "Epoch 00003: val_loss did not improve from 0.12700\n",
      "Epoch 4/100\n",
      "14/14 [==============================] - 1s 54ms/step - loss: 0.0017 - val_loss: 1.1857\n",
      "\n",
      "Epoch 00004: val_loss did not improve from 0.12700\n",
      "Epoch 5/100\n",
      "14/14 [==============================] - 1s 53ms/step - loss: 0.0016 - val_loss: 0.1734\n",
      "\n",
      "Epoch 00005: val_loss did not improve from 0.12700\n",
      "Epoch 6/100\n",
      "14/14 [==============================] - 1s 52ms/step - loss: 0.0013 - val_loss: 0.1613\n",
      "\n",
      "Epoch 00006: val_loss did not improve from 0.12700\n",
      "Epoch 7/100\n",
      "14/14 [==============================] - 1s 56ms/step - loss: 0.0013 - val_loss: 0.1494\n",
      "\n",
      "Epoch 00007: val_loss did not improve from 0.12700\n",
      "Epoch 8/100\n",
      "14/14 [==============================] - 1s 49ms/step - loss: 0.0013 - val_loss: 0.2092\n",
      "\n",
      "Epoch 00008: val_loss did not improve from 0.12700\n",
      "Epoch 9/100\n",
      "14/14 [==============================] - 1s 54ms/step - loss: 0.0012 - val_loss: 0.1630\n",
      "\n",
      "Epoch 00009: val_loss did not improve from 0.12700\n",
      "Epoch 10/100\n",
      "14/14 [==============================] - 1s 52ms/step - loss: 0.0011 - val_loss: 0.1198\n",
      "\n",
      "Epoch 00010: val_loss improved from 0.12700 to 0.11984, saving model to lstm_model.h5\n",
      "Epoch 11/100\n",
      "14/14 [==============================] - 1s 53ms/step - loss: 0.0011 - val_loss: 0.1315\n",
      "\n",
      "Epoch 00011: val_loss did not improve from 0.11984\n",
      "Epoch 12/100\n",
      "14/14 [==============================] - 1s 53ms/step - loss: 0.0011 - val_loss: 0.1013\n",
      "\n",
      "Epoch 00012: val_loss improved from 0.11984 to 0.10133, saving model to lstm_model.h5\n",
      "Epoch 13/100\n",
      "14/14 [==============================] - 1s 53ms/step - loss: 0.0010 - val_loss: 0.1307\n",
      "\n",
      "Epoch 00013: val_loss did not improve from 0.10133\n",
      "Epoch 14/100\n",
      "14/14 [==============================] - 1s 52ms/step - loss: 0.0011 - val_loss: 0.0893\n",
      "\n",
      "Epoch 00014: val_loss improved from 0.10133 to 0.08929, saving model to lstm_model.h5\n",
      "Epoch 15/100\n",
      "14/14 [==============================] - 1s 54ms/step - loss: 0.0010 - val_loss: 0.1152\n",
      "\n",
      "Epoch 00015: val_loss did not improve from 0.08929\n",
      "Epoch 16/100\n",
      "14/14 [==============================] - 1s 53ms/step - loss: 0.0010 - val_loss: 0.0610\n",
      "\n",
      "Epoch 00016: val_loss improved from 0.08929 to 0.06105, saving model to lstm_model.h5\n",
      "Epoch 17/100\n",
      "14/14 [==============================] - 1s 53ms/step - loss: 9.4109e-04 - val_loss: 0.0454\n",
      "\n",
      "Epoch 00017: val_loss improved from 0.06105 to 0.04543, saving model to lstm_model.h5\n",
      "Epoch 18/100\n",
      "14/14 [==============================] - 1s 54ms/step - loss: 8.6636e-04 - val_loss: 0.0601\n",
      "\n",
      "Epoch 00018: val_loss did not improve from 0.04543\n",
      "Epoch 19/100\n",
      "14/14 [==============================] - 1s 53ms/step - loss: 9.8372e-04 - val_loss: 0.0106\n",
      "\n",
      "Epoch 00019: val_loss improved from 0.04543 to 0.01058, saving model to lstm_model.h5\n",
      "Epoch 20/100\n",
      "14/14 [==============================] - 1s 55ms/step - loss: 9.4466e-04 - val_loss: 0.0208\n",
      "\n",
      "Epoch 00020: val_loss did not improve from 0.01058\n",
      "Epoch 21/100\n",
      "14/14 [==============================] - 1s 53ms/step - loss: 9.0844e-04 - val_loss: 0.0484\n",
      "\n",
      "Epoch 00021: val_loss did not improve from 0.01058\n",
      "Epoch 22/100\n",
      "14/14 [==============================] - 1s 64ms/step - loss: 8.8175e-04 - val_loss: 0.0129\n",
      "\n",
      "Epoch 00022: val_loss did not improve from 0.01058\n",
      "Epoch 23/100\n",
      "14/14 [==============================] - 1s 71ms/step - loss: 8.3991e-04 - val_loss: 0.0208\n",
      "\n",
      "Epoch 00023: val_loss did not improve from 0.01058\n",
      "Epoch 24/100\n",
      "14/14 [==============================] - 1s 71ms/step - loss: 7.8250e-04 - val_loss: 0.0069\n",
      "\n",
      "Epoch 00024: val_loss improved from 0.01058 to 0.00686, saving model to lstm_model.h5\n",
      "Epoch 25/100\n",
      "14/14 [==============================] - 1s 76ms/step - loss: 7.5776e-04 - val_loss: 0.0060\n",
      "\n",
      "Epoch 00025: val_loss improved from 0.00686 to 0.00596, saving model to lstm_model.h5\n",
      "Epoch 26/100\n",
      "14/14 [==============================] - 1s 61ms/step - loss: 6.7477e-04 - val_loss: 0.0024\n",
      "\n",
      "Epoch 00026: val_loss improved from 0.00596 to 0.00238, saving model to lstm_model.h5\n",
      "Epoch 27/100\n",
      "14/14 [==============================] - 1s 65ms/step - loss: 7.1181e-04 - val_loss: 0.0022\n",
      "\n",
      "Epoch 00027: val_loss improved from 0.00238 to 0.00219, saving model to lstm_model.h5\n",
      "Epoch 28/100\n",
      "14/14 [==============================] - 1s 54ms/step - loss: 7.2129e-04 - val_loss: 0.0049\n",
      "\n",
      "Epoch 00028: val_loss did not improve from 0.00219\n",
      "Epoch 29/100\n",
      "14/14 [==============================] - 1s 53ms/step - loss: 7.5091e-04 - val_loss: 0.0016\n",
      "\n",
      "Epoch 00029: val_loss improved from 0.00219 to 0.00162, saving model to lstm_model.h5\n",
      "Epoch 30/100\n",
      "14/14 [==============================] - 1s 52ms/step - loss: 7.3034e-04 - val_loss: 0.0018\n",
      "\n",
      "Epoch 00030: val_loss did not improve from 0.00162\n",
      "Epoch 31/100\n",
      "14/14 [==============================] - 1s 54ms/step - loss: 6.8692e-04 - val_loss: 0.0016\n",
      "\n",
      "Epoch 00031: val_loss improved from 0.00162 to 0.00157, saving model to lstm_model.h5\n",
      "Epoch 32/100\n",
      "14/14 [==============================] - 1s 53ms/step - loss: 6.6226e-04 - val_loss: 0.0015\n",
      "\n",
      "Epoch 00032: val_loss improved from 0.00157 to 0.00150, saving model to lstm_model.h5\n",
      "Epoch 33/100\n",
      "14/14 [==============================] - 1s 53ms/step - loss: 6.4565e-04 - val_loss: 0.0015\n",
      "\n",
      "Epoch 00033: val_loss improved from 0.00150 to 0.00147, saving model to lstm_model.h5\n",
      "Epoch 34/100\n",
      "14/14 [==============================] - 1s 53ms/step - loss: 6.0358e-04 - val_loss: 0.0021\n",
      "\n",
      "Epoch 00034: val_loss did not improve from 0.00147\n",
      "Epoch 35/100\n",
      "14/14 [==============================] - 1s 57ms/step - loss: 6.1466e-04 - val_loss: 0.0014\n",
      "\n",
      "Epoch 00035: val_loss improved from 0.00147 to 0.00143, saving model to lstm_model.h5\n",
      "Epoch 36/100\n",
      "14/14 [==============================] - 1s 57ms/step - loss: 6.2277e-04 - val_loss: 0.0015\n",
      "\n",
      "Epoch 00036: val_loss did not improve from 0.00143\n",
      "Epoch 37/100\n",
      "14/14 [==============================] - 1s 48ms/step - loss: 6.2741e-04 - val_loss: 0.0034\n",
      "\n",
      "Epoch 00037: val_loss did not improve from 0.00143\n",
      "Epoch 38/100\n",
      "14/14 [==============================] - 1s 54ms/step - loss: 6.3130e-04 - val_loss: 0.0014\n",
      "\n",
      "Epoch 00038: val_loss improved from 0.00143 to 0.00143, saving model to lstm_model.h5\n",
      "Epoch 39/100\n",
      "14/14 [==============================] - 1s 52ms/step - loss: 5.8823e-04 - val_loss: 0.0050\n",
      "\n",
      "Epoch 00039: val_loss did not improve from 0.00143\n",
      "Epoch 40/100\n",
      "14/14 [==============================] - 1s 53ms/step - loss: 6.0138e-04 - val_loss: 0.0021\n",
      "\n",
      "Epoch 00040: val_loss did not improve from 0.00143\n",
      "Epoch 41/100\n",
      "14/14 [==============================] - 1s 54ms/step - loss: 5.7951e-04 - val_loss: 0.0017\n",
      "\n",
      "Epoch 00041: val_loss did not improve from 0.00143\n",
      "Epoch 42/100\n",
      "14/14 [==============================] - 1s 53ms/step - loss: 6.1902e-04 - val_loss: 0.0036\n",
      "\n",
      "Epoch 00042: val_loss did not improve from 0.00143\n",
      "Epoch 43/100\n",
      "14/14 [==============================] - 1s 52ms/step - loss: 5.9333e-04 - val_loss: 0.0036\n",
      "\n",
      "Epoch 00043: val_loss did not improve from 0.00143\n",
      "Epoch 44/100\n",
      "14/14 [==============================] - 1s 53ms/step - loss: 5.9560e-04 - val_loss: 0.0057\n",
      "\n",
      "Epoch 00044: val_loss did not improve from 0.00143\n",
      "Epoch 45/100\n",
      "14/14 [==============================] - 1s 53ms/step - loss: 5.5994e-04 - val_loss: 0.0032\n",
      "\n",
      "Epoch 00045: val_loss did not improve from 0.00143\n",
      "Epoch 46/100\n",
      "14/14 [==============================] - 1s 49ms/step - loss: 5.4027e-04 - val_loss: 0.0036\n",
      "\n",
      "Epoch 00046: val_loss did not improve from 0.00143\n",
      "Epoch 47/100\n",
      "14/14 [==============================] - 1s 57ms/step - loss: 5.5078e-04 - val_loss: 0.0080\n",
      "\n",
      "Epoch 00047: val_loss did not improve from 0.00143\n",
      "Epoch 48/100\n",
      "14/14 [==============================] - 1s 55ms/step - loss: 5.5558e-04 - val_loss: 0.0174\n",
      "\n",
      "Epoch 00048: val_loss did not improve from 0.00143\n",
      "Epoch 49/100\n",
      "14/14 [==============================] - 1s 56ms/step - loss: 6.4317e-04 - val_loss: 0.0042\n",
      "\n",
      "Epoch 00049: val_loss did not improve from 0.00143\n",
      "Epoch 50/100\n",
      "14/14 [==============================] - 1s 54ms/step - loss: 5.6255e-04 - val_loss: 0.0066\n",
      "\n",
      "Epoch 00050: val_loss did not improve from 0.00143\n",
      "Epoch 51/100\n",
      "14/14 [==============================] - 1s 51ms/step - loss: 5.9720e-04 - val_loss: 0.0067\n",
      "\n",
      "Epoch 00051: val_loss did not improve from 0.00143\n",
      "Epoch 52/100\n",
      "14/14 [==============================] - 1s 56ms/step - loss: 5.8012e-04 - val_loss: 0.0044\n",
      "\n",
      "Epoch 00052: val_loss did not improve from 0.00143\n",
      "Epoch 53/100\n",
      "14/14 [==============================] - 1s 62ms/step - loss: 5.4167e-04 - val_loss: 0.0021\n",
      "\n",
      "Epoch 00053: val_loss did not improve from 0.00143\n",
      "Epoch 54/100\n",
      "14/14 [==============================] - 1s 53ms/step - loss: 6.1863e-04 - val_loss: 0.0041\n",
      "\n",
      "Epoch 00054: val_loss did not improve from 0.00143\n",
      "Epoch 55/100\n",
      "14/14 [==============================] - 1s 52ms/step - loss: 5.4193e-04 - val_loss: 0.0087\n",
      "\n",
      "Epoch 00055: val_loss did not improve from 0.00143\n",
      "Epoch 56/100\n",
      "14/14 [==============================] - 1s 53ms/step - loss: 5.3136e-04 - val_loss: 0.0031\n",
      "\n",
      "Epoch 00056: val_loss did not improve from 0.00143\n",
      "Epoch 57/100\n",
      "14/14 [==============================] - 1s 51ms/step - loss: 6.0752e-04 - val_loss: 0.0042\n",
      "\n",
      "Epoch 00057: val_loss did not improve from 0.00143\n",
      "Epoch 58/100\n",
      "14/14 [==============================] - 1s 53ms/step - loss: 6.8398e-04 - val_loss: 0.0065\n",
      "\n",
      "Epoch 00058: val_loss did not improve from 0.00143\n"
     ]
    },
    {
     "data": {
      "text/plain": [
       "<keras.callbacks.History at 0x25c7f831580>"
      ]
     },
     "execution_count": 29,
     "metadata": {},
     "output_type": "execute_result"
    }
   ],
   "source": [
    "#Fitting the model with the dataset at hand.\n",
    "model.fit(Xtrain, Ytrain, validation_data = (Xtest, Ytest), epochs = 100, batch_size = 64,verbose=1, callbacks=[csv_logger, checkpoint, early])"
   ]
  },
  {
   "cell_type": "markdown",
   "metadata": {},
   "source": [
    "## Evaluation of the Model."
   ]
  },
  {
   "cell_type": "code",
   "execution_count": 30,
   "metadata": {},
   "outputs": [],
   "source": [
    "#Predicting values.\n",
    "train_predict = model.predict(Xtrain)\n",
    "test_predict = model.predict(Xtest)"
   ]
  },
  {
   "cell_type": "code",
   "execution_count": 31,
   "metadata": {},
   "outputs": [],
   "source": [
    "#Converting the normalized predictions to their original form.\n",
    "train_predict = scaler.inverse_transform(train_predict)\n",
    "test_predict = scaler.inverse_transform(test_predict)"
   ]
  },
  {
   "cell_type": "code",
   "execution_count": 32,
   "metadata": {},
   "outputs": [
    {
     "data": {
      "text/plain": [
       "100.86141"
      ]
     },
     "execution_count": 32,
     "metadata": {},
     "output_type": "execute_result"
    }
   ],
   "source": [
    "from keras.losses import MeanSquaredError\n",
    "metric = MeanSquaredError(reduction='auto', name='mean_squared_error')\n",
    "metric(Ytrain, train_predict).numpy()"
   ]
  },
  {
   "cell_type": "code",
   "execution_count": 33,
   "metadata": {},
   "outputs": [
    {
     "data": {
      "text/plain": [
       "375.91223"
      ]
     },
     "execution_count": 33,
     "metadata": {},
     "output_type": "execute_result"
    }
   ],
   "source": [
    "metric(Ytest, test_predict).numpy()"
   ]
  },
  {
   "cell_type": "code",
   "execution_count": 34,
   "metadata": {},
   "outputs": [
    {
     "data": {
      "image/png": "[encoded data removed]",
      "text/plain": [
       "<Figure size 432x288 with 1 Axes>"
      ]
     },
     "metadata": {
      "needs_background": "light"
     },
     "output_type": "display_data"
    }
   ],
   "source": [
    "#Evaluation of the model on train and test data.\n",
    "\n",
    "look_back=24\n",
    "trainPredictPlot = np.empty_like(df1)\n",
    "trainPredictPlot[:, :] = np.nan\n",
    "trainPredictPlot[look_back:len(train_predict)+look_back, :] = train_predict\n",
    "# shift test predictions for plotting\n",
    "testPredictPlot = np.empty_like(df1)\n",
    "testPredictPlot[:, :] = np.nan\n",
    "testPredictPlot[len(train_predict)+(look_back*2)+1:len(df1)-1, :] = test_predict\n",
    "# plot baseline and predictions\n",
    "plt.plot(scaler.inverse_transform(df1), label='Original Data')\n",
    "plt.plot(trainPredictPlot, label='Train Set Predicted Data')\n",
    "plt.plot(testPredictPlot, label='Test Set Predicted Data')\n",
    "plt.xlabel('Samples')\n",
    "plt.ylabel('Closing Price')\n",
    "plt.legend()\n",
    "plt.show()"
   ]
  },
  {
   "cell_type": "code",
   "execution_count": 35,
   "metadata": {},
   "outputs": [
    {
     "data": {
      "text/plain": [
       "377"
      ]
     },
     "execution_count": 35,
     "metadata": {},
     "output_type": "execute_result"
    }
   ],
   "source": [
    "len(y)"
   ]
  },
  {
   "cell_type": "code",
   "execution_count": 36,
   "metadata": {},
   "outputs": [
    {
     "data": {
      "text/plain": [
       "(1, 23)"
      ]
     },
     "execution_count": 36,
     "metadata": {},
     "output_type": "execute_result"
    }
   ],
   "source": [
    "x_input=np.array(y[354:]).reshape(1,-1)\n",
    "x_input.shape"
   ]
  },
  {
   "cell_type": "code",
   "execution_count": 37,
   "metadata": {},
   "outputs": [
    {
     "data": {
      "text/plain": [
       "[0.6344755629506851,\n",
       " 0.6199376254436337,\n",
       " 0.5913810721254795,\n",
       " 0.5664589784261893,\n",
       " 0.5867081671779131,\n",
       " 0.5893042804996709,\n",
       " 0.5571131685310562,\n",
       " 0.5617860734786229,\n",
       " 0.6142263741989613,\n",
       " 0.5908618494611282,\n",
       " 0.5970924224017495,\n",
       " 0.6090342465870431,\n",
       " 0.61370715153461,\n",
       " 0.5981307686988553,\n",
       " 0.6059190096325309,\n",
       " 0.6007268820206131,\n",
       " 0.6183800564821764,\n",
       " 0.6090342465870431,\n",
       " 0.6225337387653913,\n",
       " 0.6344755629506851,\n",
       " 0.6292834353387669,\n",
       " 0.5981307686988553,\n",
       " 0.5851504991848585]"
      ]
     },
     "execution_count": 37,
     "metadata": {},
     "output_type": "execute_result"
    }
   ],
   "source": [
    "temp_input=list(x_input)\n",
    "temp_input=temp_input[0].tolist()\n",
    "temp_input"
   ]
  },
  {
   "cell_type": "code",
   "execution_count": 38,
   "metadata": {},
   "outputs": [
    {
     "name": "stdout",
     "output_type": "stream",
     "text": [
      "[0.58191925]\n",
      "24\n",
      "1 day input [0.61993763 0.59138107 0.56645898 0.58670817 0.58930428 0.55711317\n",
      " 0.56178607 0.61422637 0.59086185 0.59709242 0.60903425 0.61370715\n",
      " 0.59813077 0.60591901 0.60072688 0.61838006 0.60903425 0.62253374\n",
      " 0.63447556 0.62928344 0.59813077 0.5851505  0.58191925]\n",
      "1 day output [[0.580294]]\n",
      "2 day input [0.59138107 0.56645898 0.58670817 0.58930428 0.55711317 0.56178607\n",
      " 0.61422637 0.59086185 0.59709242 0.60903425 0.61370715 0.59813077\n",
      " 0.60591901 0.60072688 0.61838006 0.60903425 0.62253374 0.63447556\n",
      " 0.62928344 0.59813077 0.5851505  0.58191925 0.58029401]\n",
      "2 day output [[0.5771139]]\n",
      "3 day input [0.56645898 0.58670817 0.58930428 0.55711317 0.56178607 0.61422637\n",
      " 0.59086185 0.59709242 0.60903425 0.61370715 0.59813077 0.60591901\n",
      " 0.60072688 0.61838006 0.60903425 0.62253374 0.63447556 0.62928344\n",
      " 0.59813077 0.5851505  0.58191925 0.58029401 0.57711393]\n",
      "3 day output [[0.5726381]]\n",
      "4 day input [0.58670817 0.58930428 0.55711317 0.56178607 0.61422637 0.59086185\n",
      " 0.59709242 0.60903425 0.61370715 0.59813077 0.60591901 0.60072688\n",
      " 0.61838006 0.60903425 0.62253374 0.63447556 0.62928344 0.59813077\n",
      " 0.5851505  0.58191925 0.58029401 0.57711393 0.57263809]\n",
      "4 day output [[0.56758106]]\n",
      "5 day input [0.58930428 0.55711317 0.56178607 0.61422637 0.59086185 0.59709242\n",
      " 0.60903425 0.61370715 0.59813077 0.60591901 0.60072688 0.61838006\n",
      " 0.60903425 0.62253374 0.63447556 0.62928344 0.59813077 0.5851505\n",
      " 0.58191925 0.58029401 0.57711393 0.57263809 0.56758106]\n",
      "5 day output [[0.56250226]]\n",
      "6 day input [0.55711317 0.56178607 0.61422637 0.59086185 0.59709242 0.60903425\n",
      " 0.61370715 0.59813077 0.60591901 0.60072688 0.61838006 0.60903425\n",
      " 0.62253374 0.63447556 0.62928344 0.59813077 0.5851505  0.58191925\n",
      " 0.58029401 0.57711393 0.57263809 0.56758106 0.56250226]\n",
      "6 day output [[0.5573806]]\n",
      "7 day input [0.56178607 0.61422637 0.59086185 0.59709242 0.60903425 0.61370715\n",
      " 0.59813077 0.60591901 0.60072688 0.61838006 0.60903425 0.62253374\n",
      " 0.63447556 0.62928344 0.59813077 0.5851505  0.58191925 0.58029401\n",
      " 0.57711393 0.57263809 0.56758106 0.56250226 0.55738062]\n",
      "7 day output [[0.552758]]\n",
      "8 day input [0.61422637 0.59086185 0.59709242 0.60903425 0.61370715 0.59813077\n",
      " 0.60591901 0.60072688 0.61838006 0.60903425 0.62253374 0.63447556\n",
      " 0.62928344 0.59813077 0.5851505  0.58191925 0.58029401 0.57711393\n",
      " 0.57263809 0.56758106 0.56250226 0.55738062 0.55275798]\n",
      "8 day output [[0.5484455]]\n",
      "9 day input [0.59086185 0.59709242 0.60903425 0.61370715 0.59813077 0.60591901\n",
      " 0.60072688 0.61838006 0.60903425 0.62253374 0.63447556 0.62928344\n",
      " 0.59813077 0.5851505  0.58191925 0.58029401 0.57711393 0.57263809\n",
      " 0.56758106 0.56250226 0.55738062 0.55275798 0.54844552]\n",
      "9 day output [[0.54403496]]\n",
      "10 day input [0.59709242 0.60903425 0.61370715 0.59813077 0.60591901 0.60072688\n",
      " 0.61838006 0.60903425 0.62253374 0.63447556 0.62928344 0.59813077\n",
      " 0.5851505  0.58191925 0.58029401 0.57711393 0.57263809 0.56758106\n",
      " 0.56250226 0.55738062 0.55275798 0.54844552 0.54403496]\n",
      "10 day output [[0.53993994]]\n",
      "11 day input [0.60903425 0.61370715 0.59813077 0.60591901 0.60072688 0.61838006\n",
      " 0.60903425 0.62253374 0.63447556 0.62928344 0.59813077 0.5851505\n",
      " 0.58191925 0.58029401 0.57711393 0.57263809 0.56758106 0.56250226\n",
      " 0.55738062 0.55275798 0.54844552 0.54403496 0.53993994]\n",
      "11 day output [[0.53615147]]\n",
      "12 day input [0.61370715 0.59813077 0.60591901 0.60072688 0.61838006 0.60903425\n",
      " 0.62253374 0.63447556 0.62928344 0.59813077 0.5851505  0.58191925\n",
      " 0.58029401 0.57711393 0.57263809 0.56758106 0.56250226 0.55738062\n",
      " 0.55275798 0.54844552 0.54403496 0.53993994 0.53615147]\n",
      "12 day output [[0.53240484]]\n",
      "13 day input [0.59813077 0.60591901 0.60072688 0.61838006 0.60903425 0.62253374\n",
      " 0.63447556 0.62928344 0.59813077 0.5851505  0.58191925 0.58029401\n",
      " 0.57711393 0.57263809 0.56758106 0.56250226 0.55738062 0.55275798\n",
      " 0.54844552 0.54403496 0.53993994 0.53615147 0.53240484]\n",
      "13 day output [[0.5287385]]\n",
      "14 day input [0.60591901 0.60072688 0.61838006 0.60903425 0.62253374 0.63447556\n",
      " 0.62928344 0.59813077 0.5851505  0.58191925 0.58029401 0.57711393\n",
      " 0.57263809 0.56758106 0.56250226 0.55738062 0.55275798 0.54844552\n",
      " 0.54403496 0.53993994 0.53615147 0.53240484 0.5287385 ]\n",
      "14 day output [[0.52516997]]\n",
      "15 day input [0.60072688 0.61838006 0.60903425 0.62253374 0.63447556 0.62928344\n",
      " 0.59813077 0.5851505  0.58191925 0.58029401 0.57711393 0.57263809\n",
      " 0.56758106 0.56250226 0.55738062 0.55275798 0.54844552 0.54403496\n",
      " 0.53993994 0.53615147 0.53240484 0.5287385  0.52516997]\n",
      "15 day output [[0.52170336]]\n",
      "16 day input [0.61838006 0.60903425 0.62253374 0.63447556 0.62928344 0.59813077\n",
      " 0.5851505  0.58191925 0.58029401 0.57711393 0.57263809 0.56758106\n",
      " 0.56250226 0.55738062 0.55275798 0.54844552 0.54403496 0.53993994\n",
      " 0.53615147 0.53240484 0.5287385  0.52516997 0.52170336]\n",
      "16 day output [[0.5183448]]\n",
      "17 day input [0.60903425 0.62253374 0.63447556 0.62928344 0.59813077 0.5851505\n",
      " 0.58191925 0.58029401 0.57711393 0.57263809 0.56758106 0.56250226\n",
      " 0.55738062 0.55275798 0.54844552 0.54403496 0.53993994 0.53615147\n",
      " 0.53240484 0.5287385  0.52516997 0.52170336 0.51834482]\n",
      "17 day output [[0.5150667]]\n",
      "18 day input [0.62253374 0.63447556 0.62928344 0.59813077 0.5851505  0.58191925\n",
      " 0.58029401 0.57711393 0.57263809 0.56758106 0.56250226 0.55738062\n",
      " 0.55275798 0.54844552 0.54403496 0.53993994 0.53615147 0.53240484\n",
      " 0.5287385  0.52516997 0.52170336 0.51834482 0.51506668]\n",
      "18 day output [[0.5118802]]\n",
      "19 day input [0.63447556 0.62928344 0.59813077 0.5851505  0.58191925 0.58029401\n",
      " 0.57711393 0.57263809 0.56758106 0.56250226 0.55738062 0.55275798\n",
      " 0.54844552 0.54403496 0.53993994 0.53615147 0.53240484 0.5287385\n",
      " 0.52516997 0.52170336 0.51834482 0.51506668 0.51188022]\n",
      "19 day output [[0.50876343]]\n",
      "20 day input [0.62928344 0.59813077 0.5851505  0.58191925 0.58029401 0.57711393\n",
      " 0.57263809 0.56758106 0.56250226 0.55738062 0.55275798 0.54844552\n",
      " 0.54403496 0.53993994 0.53615147 0.53240484 0.5287385  0.52516997\n",
      " 0.52170336 0.51834482 0.51506668 0.51188022 0.50876343]\n",
      "20 day output [[0.5057161]]\n",
      "21 day input [0.59813077 0.5851505  0.58191925 0.58029401 0.57711393 0.57263809\n",
      " 0.56758106 0.56250226 0.55738062 0.55275798 0.54844552 0.54403496\n",
      " 0.53993994 0.53615147 0.53240484 0.5287385  0.52516997 0.52170336\n",
      " 0.51834482 0.51506668 0.51188022 0.50876343 0.50571609]\n",
      "21 day output [[0.5027381]]\n",
      "22 day input [0.5851505  0.58191925 0.58029401 0.57711393 0.57263809 0.56758106\n",
      " 0.56250226 0.55738062 0.55275798 0.54844552 0.54403496 0.53993994\n",
      " 0.53615147 0.53240484 0.5287385  0.52516997 0.52170336 0.51834482\n",
      " 0.51506668 0.51188022 0.50876343 0.50571609 0.50273812]\n",
      "22 day output [[0.4998529]]\n",
      "23 day input [0.58191925 0.58029401 0.57711393 0.57263809 0.56758106 0.56250226\n",
      " 0.55738062 0.55275798 0.54844552 0.54403496 0.53993994 0.53615147\n",
      " 0.53240484 0.5287385  0.52516997 0.52170336 0.51834482 0.51506668\n",
      " 0.51188022 0.50876343 0.50571609 0.50273812 0.4998529 ]\n",
      "23 day output [[0.49704102]]\n",
      "24 day input [0.58029401 0.57711393 0.57263809 0.56758106 0.56250226 0.55738062\n",
      " 0.55275798 0.54844552 0.54403496 0.53993994 0.53615147 0.53240484\n",
      " 0.5287385  0.52516997 0.52170336 0.51834482 0.51506668 0.51188022\n",
      " 0.50876343 0.50571609 0.50273812 0.4998529  0.49704102]\n",
      "24 day output [[0.49431533]]\n",
      "25 day input [0.57711393 0.57263809 0.56758106 0.56250226 0.55738062 0.55275798\n",
      " 0.54844552 0.54403496 0.53993994 0.53615147 0.53240484 0.5287385\n",
      " 0.52516997 0.52170336 0.51834482 0.51506668 0.51188022 0.50876343\n",
      " 0.50571609 0.50273812 0.4998529  0.49704102 0.49431533]\n",
      "25 day output [[0.49166712]]\n",
      "26 day input [0.57263809 0.56758106 0.56250226 0.55738062 0.55275798 0.54844552\n",
      " 0.54403496 0.53993994 0.53615147 0.53240484 0.5287385  0.52516997\n",
      " 0.52170336 0.51834482 0.51506668 0.51188022 0.50876343 0.50571609\n",
      " 0.50273812 0.4998529  0.49704102 0.49431533 0.49166712]\n",
      "26 day output [[0.4890777]]\n",
      "27 day input [0.56758106 0.56250226 0.55738062 0.55275798 0.54844552 0.54403496\n",
      " 0.53993994 0.53615147 0.53240484 0.5287385  0.52516997 0.52170336\n",
      " 0.51834482 0.51506668 0.51188022 0.50876343 0.50571609 0.50273812\n",
      " 0.4998529  0.49704102 0.49431533 0.49166712 0.48907769]\n",
      "27 day output [[0.4865479]]\n",
      "28 day input [0.56250226 0.55738062 0.55275798 0.54844552 0.54403496 0.53993994\n",
      " 0.53615147 0.53240484 0.5287385  0.52516997 0.52170336 0.51834482\n",
      " 0.51506668 0.51188022 0.50876343 0.50571609 0.50273812 0.4998529\n",
      " 0.49704102 0.49431533 0.49166712 0.48907769 0.48654789]\n",
      "28 day output [[0.48407772]]\n",
      "29 day input [0.55738062 0.55275798 0.54844552 0.54403496 0.53993994 0.53615147\n",
      " 0.53240484 0.5287385  0.52516997 0.52170336 0.51834482 0.51506668\n",
      " 0.51188022 0.50876343 0.50571609 0.50273812 0.4998529  0.49704102\n",
      " 0.49431533 0.49166712 0.48907769 0.48654789 0.48407772]\n",
      "29 day output [[0.48166594]]\n",
      "[[0.581919252872467], [0.5802940130233765], [0.577113926410675], [0.5726380944252014], [0.567581057548523], [0.5625022649765015], [0.5573806166648865], [0.552757978439331], [0.5484455227851868], [0.5440349578857422], [0.5399399399757385], [0.5361514687538147], [0.5324048399925232], [0.5287384986877441], [0.5251699686050415], [0.5217033624649048], [0.5183448195457458], [0.5150666832923889], [0.5118802189826965], [0.5087634325027466], [0.50571608543396], [0.5027381181716919], [0.49985289573669434], [0.4970410168170929], [0.49431532621383667], [0.49166712164878845], [0.48907768726348877], [0.48654788732528687], [0.48407772183418274], [0.4816659390926361]]\n"
     ]
    }
   ],
   "source": [
    "from numpy import array\n",
    "\n",
    "lst_output=[]\n",
    "n_steps=23\n",
    "i=0\n",
    "while(i<30):\n",
    "    \n",
    "    if(len(temp_input))>23:\n",
    "        #print(temp_input)\n",
    "        x_input=np.array(temp_input[1:])\n",
    "        print(\"{} day input {}\".format(i,x_input))\n",
    "        x_input=x_input.reshape(1,-1)\n",
    "        x_input = x_input.reshape((1, n_steps, 1))\n",
    "        #print(x_input)\n",
    "        yhat = model.predict(x_input, verbose=0)\n",
    "        print(\"{} day output {}\".format(i,yhat))\n",
    "        temp_input.extend(yhat[0].tolist())\n",
    "        temp_input=temp_input[1:]\n",
    "        #print(temp_input)\n",
    "        lst_output.extend(yhat.tolist())\n",
    "        i=i+1\n",
    "    else:\n",
    "        x_input = x_input.reshape((1, n_steps,1))\n",
    "        yhat = model.predict(x_input, verbose=0)\n",
    "        print(yhat[0])\n",
    "        temp_input.extend(yhat[0].tolist())\n",
    "        print(len(temp_input))\n",
    "        lst_output.extend(yhat.tolist())\n",
    "        i=i+1\n",
    "    \n",
    "\n",
    "print(lst_output)"
   ]
  },
  {
   "cell_type": "code",
   "execution_count": 39,
   "metadata": {},
   "outputs": [],
   "source": [
    "day_new=np.arange(1,24)\n",
    "day_pred=np.arange(24,54)"
   ]
  },
  {
   "cell_type": "code",
   "execution_count": 40,
   "metadata": {},
   "outputs": [
    {
     "data": {
      "text/plain": [
       "[<matplotlib.lines.Line2D at 0x25c0880f430>]"
      ]
     },
     "execution_count": 40,
     "metadata": {},
     "output_type": "execute_result"
    },
    {
     "data": {
      "image/png": "[encoded data removed]",
      "text/plain": [
       "<Figure size 432x288 with 1 Axes>"
      ]
     },
     "metadata": {
      "needs_background": "light"
     },
     "output_type": "display_data"
    }
   ],
   "source": [
    "plt.plot(day_new,scaler.inverse_transform(df1[1235:]))\n",
    "plt.plot(day_pred,scaler.inverse_transform(lst_output))"
   ]
  },
  {
   "cell_type": "code",
   "execution_count": 41,
   "metadata": {},
   "outputs": [
    {
     "data": {
      "text/plain": [
       "[<matplotlib.lines.Line2D at 0x25c087b4bb0>]"
      ]
     },
     "execution_count": 41,
     "metadata": {},
     "output_type": "execute_result"
    },
    {
     "data": {
      "image/png": "[encoded data removed]",
      "text/plain": [
       "<Figure size 432x288 with 1 Axes>"
      ]
     },
     "metadata": {
      "needs_background": "light"
     },
     "output_type": "display_data"
    }
   ],
   "source": [
    "df3=df1.tolist()\n",
    "df3.extend(lst_output)\n",
    "plt.plot(df3[1200:])"
   ]
  },
  {
   "cell_type": "code",
   "execution_count": 42,
   "metadata": {},
   "outputs": [
    {
     "data": {
      "text/plain": [
       "[<matplotlib.lines.Line2D at 0x25c081f7790>]"
      ]
     },
     "execution_count": 42,
     "metadata": {},
     "output_type": "execute_result"
    },
    {
     "data": {
      "image/png": "[encoded data removed]",
      "text/plain": [
       "<Figure size 432x288 with 1 Axes>"
      ]
     },
     "metadata": {
      "needs_background": "light"
     },
     "output_type": "display_data"
    }
   ],
   "source": [
    "df3=scaler.inverse_transform(df3).tolist()\n",
    "plt.plot(df3)"
   ]
  },
  {
   "cell_type": "code",
   "execution_count": null,
   "metadata": {},
   "outputs": [],
   "source": []
  }
 ],
 "metadata": {
  "kernelspec": {
   "display_name": "Python 3.10.5 ('nugget')",
   "language": "python",
   "name": "python3"
  },
  "language_info": {
   "codemirror_mode": {
    "name": "ipython",
    "version": 3
   },
   "file_extension": ".py",
   "mimetype": "text/x-python",
   "name": "python",
   "nbconvert_exporter": "python",
   "pygments_lexer": "ipython3",
   "version": "3.9.0"
  },
  "orig_nbformat": 4,
  "vscode": {
   "interpreter": {
    "hash": "2eae1c96c9dd62d2089c5c8e55a6329415a90bdf1dc6799a664937c8a714466b"
   }
  }
 },
 "nbformat": 4,
 "nbformat_minor": 2
}
