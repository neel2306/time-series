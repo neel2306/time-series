{
 "cells": [
  {
   "cell_type": "code",
   "execution_count": 1,
   "metadata": {},
   "outputs": [],
   "source": [
    "import pandas_datareader as pdr\n",
    "import pandas as pd"
   ]
  },
  {
   "cell_type": "code",
   "execution_count": 2,
   "metadata": {},
   "outputs": [
    {
     "data": {
      "text/plain": [
       "True"
      ]
     },
     "execution_count": 2,
     "metadata": {},
     "output_type": "execute_result"
    }
   ],
   "source": [
    "def get_data():\n",
    "    temp = pdr.get_data_yahoo('INFY')\n",
    "    temp.to_csv('C:\\Codes\\Time-Series\\Data\\infosys.csv')\n",
    "    return True\n",
    "get_data() #To work with data extracted."
   ]
  },
  {
   "cell_type": "markdown",
   "metadata": {},
   "source": [
    "# EDA"
   ]
  },
  {
   "cell_type": "code",
   "execution_count": 3,
   "metadata": {},
   "outputs": [
    {
     "name": "stdout",
     "output_type": "stream",
     "text": [
      "             High    Low   Open  Close      Volume  Adj Close\n",
      "Date                                                         \n",
      "2017-07-11  7.740  7.635  7.710  7.735  10745200.0   6.753396\n",
      "2017-07-12  7.830  7.710  7.750  7.820  21274600.0   6.827609\n",
      "2017-07-13  7.825  7.735  7.775  7.780  20329000.0   6.792685\n",
      "2017-07-14  7.965  7.750  7.775  7.835  23331800.0   6.840705\n",
      "2017-07-17  7.870  7.730  7.860  7.820  14512400.0   6.827609\n"
     ]
    }
   ],
   "source": [
    "df = pd.read_csv('C:\\Codes\\Time-Series\\Data\\infosys.csv')\n",
    "df.index = pd.to_datetime(df['Date'], format = \"%Y.%m.%d\")\n",
    "df.drop(columns='Date', inplace=True)\n",
    "print(df.head())"
   ]
  },
  {
   "cell_type": "code",
   "execution_count": 4,
   "metadata": {},
   "outputs": [
    {
     "name": "stdout",
     "output_type": "stream",
     "text": [
      "                 High        Low       Open      Close      Volume  Adj Close\n",
      "Date                                                                         \n",
      "2022-07-05  18.690001  18.360001  18.510000  18.670000  10265200.0  18.670000\n",
      "2022-07-06  19.020000  18.700001  18.700001  18.930000   8860200.0  18.930000\n",
      "2022-07-07  19.180000  18.900000  18.990000  19.160000   9675500.0  19.160000\n",
      "2022-07-08  19.160000  18.760000  19.049999  19.059999  15835100.0  19.059999\n",
      "2022-07-11  18.590000  18.225000  18.500000  18.504999   5042138.0  18.504999\n"
     ]
    }
   ],
   "source": [
    "print(df.tail())"
   ]
  },
  {
   "cell_type": "code",
   "execution_count": 5,
   "metadata": {},
   "outputs": [
    {
     "name": "stdout",
     "output_type": "stream",
     "text": [
      "              High          Low         Open        Close        Volume  \\\n",
      "count  1259.000000  1259.000000  1259.000000  1259.000000  1.259000e+03   \n",
      "mean     13.592681    13.362812    13.477073    13.480826  1.047189e+07   \n",
      "std       5.507466     5.419261     5.464524     5.466195  6.563593e+06   \n",
      "min       7.155000     6.760000     6.920000     6.940000  1.320600e+06   \n",
      "25%       9.370000     9.167500     9.250000     9.265000  6.521750e+06   \n",
      "50%      10.870000    10.720000    10.810000    10.770000  8.881400e+06   \n",
      "75%      18.514999    18.165000    18.335000    18.345000  1.251225e+07   \n",
      "max      26.389999    25.580000    26.150000    26.200001  7.716540e+07   \n",
      "\n",
      "         Adj Close  \n",
      "count  1259.000000  \n",
      "mean     12.849434  \n",
      "std       5.664776  \n",
      "min       6.225173  \n",
      "25%       8.571565  \n",
      "50%       9.996184  \n",
      "75%      17.871861  \n",
      "max      25.910423  \n"
     ]
    }
   ],
   "source": [
    "print(df.describe())"
   ]
  },
  {
   "cell_type": "code",
   "execution_count": 6,
   "metadata": {},
   "outputs": [
    {
     "name": "stdout",
     "output_type": "stream",
     "text": [
      "High         False\n",
      "Low          False\n",
      "Open         False\n",
      "Close        False\n",
      "Volume       False\n",
      "Adj Close    False\n",
      "dtype: bool\n"
     ]
    }
   ],
   "source": [
    "print(df.isnull().any(axis=0))  #No null values."
   ]
  },
  {
   "cell_type": "code",
   "execution_count": 8,
   "metadata": {},
   "outputs": [
    {
     "data": {
      "text/plain": [
       "<matplotlib.axes._subplots.AxesSubplot at 0x1f67763f0d0>"
      ]
     },
     "execution_count": 8,
     "metadata": {},
     "output_type": "execute_result"
    },
    {
     "data": {
      "image/png": "[encoded data removed]",
      "text/plain": [
       "<Figure size 432x288 with 2 Axes>"
      ]
     },
     "metadata": {
      "needs_background": "light"
     },
     "output_type": "display_data"
    }
   ],
   "source": [
    "import seaborn as sns\n",
    "sns.heatmap(df.corr(), cmap = 'BuGn', annot=True)"
   ]
  },
  {
   "cell_type": "code",
   "execution_count": 9,
   "metadata": {},
   "outputs": [],
   "source": [
    "#We are only going to be working with the close value.\n",
    "df.drop(columns=['Volume','High','Low','Open','Adj Close'], inplace=True)"
   ]
  },
  {
   "cell_type": "code",
   "execution_count": 10,
   "metadata": {},
   "outputs": [
    {
     "data": {
      "text/html": [
       "<div>\n",
       "<style scoped>\n",
       "    .dataframe tbody tr th:only-of-type {\n",
       "        vertical-align: middle;\n",
       "    }\n",
       "\n",
       "    .dataframe tbody tr th {\n",
       "        vertical-align: top;\n",
       "    }\n",
       "\n",
       "    .dataframe thead th {\n",
       "        text-align: right;\n",
       "    }\n",
       "</style>\n",
       "<table border=\"1\" class=\"dataframe\">\n",
       "  <thead>\n",
       "    <tr style=\"text-align: right;\">\n",
       "      <th></th>\n",
       "      <th>Close</th>\n",
       "    </tr>\n",
       "    <tr>\n",
       "      <th>Date</th>\n",
       "      <th></th>\n",
       "    </tr>\n",
       "  </thead>\n",
       "  <tbody>\n",
       "    <tr>\n",
       "      <th>2017-07-11</th>\n",
       "      <td>7.735</td>\n",
       "    </tr>\n",
       "    <tr>\n",
       "      <th>2017-07-12</th>\n",
       "      <td>7.820</td>\n",
       "    </tr>\n",
       "    <tr>\n",
       "      <th>2017-07-13</th>\n",
       "      <td>7.780</td>\n",
       "    </tr>\n",
       "    <tr>\n",
       "      <th>2017-07-14</th>\n",
       "      <td>7.835</td>\n",
       "    </tr>\n",
       "    <tr>\n",
       "      <th>2017-07-17</th>\n",
       "      <td>7.820</td>\n",
       "    </tr>\n",
       "  </tbody>\n",
       "</table>\n",
       "</div>"
      ],
      "text/plain": [
       "            Close\n",
       "Date             \n",
       "2017-07-11  7.735\n",
       "2017-07-12  7.820\n",
       "2017-07-13  7.780\n",
       "2017-07-14  7.835\n",
       "2017-07-17  7.820"
      ]
     },
     "execution_count": 10,
     "metadata": {},
     "output_type": "execute_result"
    }
   ],
   "source": [
    "df.head()"
   ]
  },
  {
   "cell_type": "code",
   "execution_count": 11,
   "metadata": {},
   "outputs": [],
   "source": [
    "#Saving it to a different csv file.\n",
    "df.to_csv('C:\\Codes\\Time-Series\\Data\\closeInfosys.csv')"
   ]
  },
  {
   "cell_type": "markdown",
   "metadata": {},
   "source": [
    "# Data-Preprocessing"
   ]
  },
  {
   "cell_type": "code",
   "execution_count": 12,
   "metadata": {},
   "outputs": [
    {
     "name": "stdout",
     "output_type": "stream",
     "text": [
      "         Date  Close\n",
      "0  2017-07-11  7.735\n",
      "1  2017-07-12  7.820\n",
      "2  2017-07-13  7.780\n",
      "3  2017-07-14  7.835\n",
      "4  2017-07-17  7.820\n"
     ]
    }
   ],
   "source": [
    "closeDF = pd.read_csv('C:\\Codes\\Time-Series\\Data\\closeInfosys.csv')\n",
    "print(closeDF.head())"
   ]
  },
  {
   "cell_type": "code",
   "execution_count": 13,
   "metadata": {},
   "outputs": [],
   "source": [
    "closeDF.set_index(closeDF['Date'],drop=True, inplace=True)"
   ]
  },
  {
   "cell_type": "code",
   "execution_count": 14,
   "metadata": {},
   "outputs": [],
   "source": [
    "closeDF.drop(columns='Date', inplace=True)"
   ]
  },
  {
   "cell_type": "code",
   "execution_count": 15,
   "metadata": {},
   "outputs": [
    {
     "name": "stdout",
     "output_type": "stream",
     "text": [
      "            Close\n",
      "Date             \n",
      "2017-07-11  7.735\n",
      "2017-07-12  7.820\n",
      "2017-07-13  7.780\n",
      "2017-07-14  7.835\n",
      "2017-07-17  7.820\n"
     ]
    }
   ],
   "source": [
    "print(closeDF.head())"
   ]
  },
  {
   "cell_type": "code",
   "execution_count": 37,
   "metadata": {},
   "outputs": [
    {
     "data": {
      "image/png": "[encoded data removed]",
      "text/plain": [
       "<Figure size 432x288 with 1 Axes>"
      ]
     },
     "metadata": {
      "needs_background": "light"
     },
     "output_type": "display_data"
    }
   ],
   "source": [
    "#Getting the moving average and deviation.\n",
    "data_mean = closeDF['Close'].rolling(window=23).mean()\n",
    "data_std = closeDF['Close'].rolling(window=23).std()\n",
    "\n",
    "#Plotting the results.\n",
    "from matplotlib import pyplot as plt\n",
    "plt.plot(closeDF['Close'], color='green', label='Original Data')\n",
    "plt.plot(data_mean, color=\"yellow\", label=\"Rolling mean\")\n",
    "plt.plot(data_std, color='red', label='Deviation')\n",
    "plt.legend(loc='best')\n",
    "plt.title('Original VS Mean VS Std')\n",
    "plt.show()"
   ]
  },
  {
   "cell_type": "code",
   "execution_count": 16,
   "metadata": {},
   "outputs": [
    {
     "data": {
      "image/png": "[encoded data removed]",
      "text/plain": [
       "<Figure size 432x288 with 4 Axes>"
      ]
     },
     "metadata": {
      "needs_background": "light"
     },
     "output_type": "display_data"
    }
   ],
   "source": [
    "#We have to make the data stationary now.\n",
    "from statsmodels.tsa.seasonal import seasonal_decompose\n",
    "decompose = seasonal_decompose(closeDF['Close'], model='additive', period = 23)\n",
    "decompose.plot()\n",
    "plt.show()"
   ]
  },
  {
   "cell_type": "code",
   "execution_count": 16,
   "metadata": {},
   "outputs": [
    {
     "name": "stdout",
     "output_type": "stream",
     "text": [
      "(1259, 1)\n"
     ]
    }
   ],
   "source": [
    "from sklearn.preprocessing import MinMaxScaler\n",
    "import numpy as np\n",
    "scaler = MinMaxScaler(feature_range=(0,1))\n",
    "df1 = scaler.fit_transform(np.array(closeDF['Close']).reshape(-1,1))\n",
    "print(df1.shape)"
   ]
  },
  {
   "cell_type": "code",
   "execution_count": 17,
   "metadata": {},
   "outputs": [],
   "source": [
    "closeDF.dropna(inplace=True)"
   ]
  },
  {
   "cell_type": "code",
   "execution_count": 18,
   "metadata": {},
   "outputs": [],
   "source": [
    "def split_data(data):\n",
    "    train_size = int(len(data) * 0.75)\n",
    "    test_size = int(len(data) - train_size)\n",
    "    train_data, test_data = data[0:train_size,:],data[train_size:len(df1),:1]\n",
    "    print(train_size, test_size)\n",
    "    return train_data, test_data"
   ]
  },
  {
   "cell_type": "code",
   "execution_count": 19,
   "metadata": {},
   "outputs": [
    {
     "name": "stdout",
     "output_type": "stream",
     "text": [
      "944 315\n"
     ]
    }
   ],
   "source": [
    "X,Y = split_data(df1)"
   ]
  },
  {
   "cell_type": "code",
   "execution_count": 20,
   "metadata": {},
   "outputs": [],
   "source": [
    "np.savetxt('C:\\\\Codes\\\\Time-Series\\\\Data\\\\train_data.csv', X)\n",
    "np.savetxt('C:\\\\Codes\\\\Time-Series\\\\Data\\\\test_data.csv', Y)"
   ]
  },
  {
   "cell_type": "code",
   "execution_count": 21,
   "metadata": {},
   "outputs": [],
   "source": [
    "x = pd.read_csv(\"C:\\\\Codes\\\\Time-Series\\\\Data\\\\train_data.csv\")\n",
    "y = pd.read_csv(\"C:\\\\Codes\\\\Time-Series\\\\Data\\\\test_data.csv\")"
   ]
  },
  {
   "cell_type": "code",
   "execution_count": 22,
   "metadata": {},
   "outputs": [],
   "source": [
    "def dataset_matrix(dataset, timestep):\n",
    "    X_data, Y_data = [], []\n",
    "    for i in range(len(dataset)-timestep-1):\n",
    "        flag_X = dataset.iloc[i:(i+timestep), 0]\n",
    "        flag_Y = dataset.iloc[(i+timestep),0]\n",
    "        X_data.append(flag_X)\n",
    "        Y_data.append(flag_Y)\n",
    "    return np.array(X_data), np.array(Y_data)"
   ]
  },
  {
   "cell_type": "code",
   "execution_count": 23,
   "metadata": {},
   "outputs": [],
   "source": [
    "timestep = 22\n",
    "Xtrain, Ytrain = dataset_matrix(x, timestep)\n",
    "Xtest, Ytest = dataset_matrix(y, timestep)"
   ]
  },
  {
   "cell_type": "code",
   "execution_count": 24,
   "metadata": {},
   "outputs": [
    {
     "name": "stdout",
     "output_type": "stream",
     "text": [
      "(920, 22) \n",
      " (920,) \n",
      " (291, 22) \n",
      " (291,)\n"
     ]
    }
   ],
   "source": [
    "print(Xtrain.shape,'\\n',Ytrain.shape,'\\n',Xtest.shape,'\\n',Ytest.shape)"
   ]
  },
  {
   "cell_type": "code",
   "execution_count": 25,
   "metadata": {},
   "outputs": [],
   "source": [
    "Xtrain = Xtrain.reshape(Xtrain.shape[0], Xtrain.shape[1], 1)\n",
    "Xtest = Xtest.reshape(Xtest.shape[0], Xtest.shape[1], 1)"
   ]
  },
  {
   "cell_type": "code",
   "execution_count": 26,
   "metadata": {},
   "outputs": [
    {
     "name": "stdout",
     "output_type": "stream",
     "text": [
      "Model: \"sequential\"\n",
      "_________________________________________________________________\n",
      "Layer (type)                 Output Shape              Param #   \n",
      "=================================================================\n",
      "lstm (LSTM)                  (None, 22, 100)           40800     \n",
      "_________________________________________________________________\n",
      "dropout (Dropout)            (None, 22, 100)           0         \n",
      "_________________________________________________________________\n",
      "lstm_1 (LSTM)                (None, 22, 50)            30200     \n",
      "_________________________________________________________________\n",
      "dropout_1 (Dropout)          (None, 22, 50)            0         \n",
      "_________________________________________________________________\n",
      "lstm_2 (LSTM)                (None, 25)                7600      \n",
      "_________________________________________________________________\n",
      "dropout_2 (Dropout)          (None, 25)                0         \n",
      "_________________________________________________________________\n",
      "dense (Dense)                (None, 1)                 26        \n",
      "=================================================================\n",
      "Total params: 78,626\n",
      "Trainable params: 78,626\n",
      "Non-trainable params: 0\n",
      "_________________________________________________________________\n",
      "None\n"
     ]
    }
   ],
   "source": [
    "from keras.layers import Dense, Dropout, LSTM\n",
    "from keras.models import Sequential\n",
    "\n",
    "model = Sequential()\n",
    "model.add(LSTM(100, return_sequences=True, input_shape=(22,1)))\n",
    "model.add(Dropout(0.5))\n",
    "model.add(LSTM(50, return_sequences=True))\n",
    "model.add(Dropout(0.3))\n",
    "model.add(LSTM(25, return_sequences=False))\n",
    "model.add(Dropout(0.2))\n",
    "model.add(Dense(1))\n",
    "model.compile(optimizer='adam', loss='mean_squared_error')\n",
    "print(model.summary())"
   ]
  },
  {
   "cell_type": "code",
   "execution_count": 27,
   "metadata": {},
   "outputs": [],
   "source": [
    "from keras.callbacks import CSVLogger, ModelCheckpoint,EarlyStopping\n",
    "csv_logger = CSVLogger('training.log', separator = ';')\n",
    "checkpoint = ModelCheckpoint('lstm_model.h5', monitor = 'val_loss', verbose = 1, save_best_only = True)\n",
    "early = EarlyStopping(monitor = 'val_loss', patience = 10)"
   ]
  },
  {
   "cell_type": "code",
   "execution_count": 28,
   "metadata": {},
   "outputs": [
    {
     "name": "stdout",
     "output_type": "stream",
     "text": [
      "Epoch 1/50\n",
      "29/29 [==============================] - 13s 130ms/step - loss: 0.0091 - val_loss: 0.0064\n",
      "\n",
      "Epoch 00001: val_loss improved from inf to 0.00637, saving model to lstm_model.h5\n",
      "Epoch 2/50\n",
      "29/29 [==============================] - 1s 41ms/step - loss: 0.0021 - val_loss: 0.0039\n",
      "\n",
      "Epoch 00002: val_loss improved from 0.00637 to 0.00387, saving model to lstm_model.h5\n",
      "Epoch 3/50\n",
      "29/29 [==============================] - 1s 47ms/step - loss: 0.0020 - val_loss: 0.0030\n",
      "\n",
      "Epoch 00003: val_loss improved from 0.00387 to 0.00305, saving model to lstm_model.h5\n",
      "Epoch 4/50\n",
      "29/29 [==============================] - 1s 40ms/step - loss: 0.0019 - val_loss: 0.0035\n",
      "\n",
      "Epoch 00004: val_loss did not improve from 0.00305\n",
      "Epoch 5/50\n",
      "29/29 [==============================] - 1s 40ms/step - loss: 0.0019 - val_loss: 0.0035\n",
      "\n",
      "Epoch 00005: val_loss did not improve from 0.00305\n",
      "Epoch 6/50\n",
      "29/29 [==============================] - 1s 42ms/step - loss: 0.0020 - val_loss: 0.0026\n",
      "\n",
      "Epoch 00006: val_loss improved from 0.00305 to 0.00257, saving model to lstm_model.h5\n",
      "Epoch 7/50\n",
      "29/29 [==============================] - 1s 46ms/step - loss: 0.0018 - val_loss: 0.0029\n",
      "\n",
      "Epoch 00007: val_loss did not improve from 0.00257\n",
      "Epoch 8/50\n",
      "29/29 [==============================] - 1s 45ms/step - loss: 0.0016 - val_loss: 0.0025\n",
      "\n",
      "Epoch 00008: val_loss improved from 0.00257 to 0.00255, saving model to lstm_model.h5\n",
      "Epoch 9/50\n",
      "29/29 [==============================] - 1s 40ms/step - loss: 0.0015 - val_loss: 0.0027\n",
      "\n",
      "Epoch 00009: val_loss did not improve from 0.00255\n",
      "Epoch 10/50\n",
      "29/29 [==============================] - 1s 41ms/step - loss: 0.0014 - val_loss: 0.0024\n",
      "\n",
      "Epoch 00010: val_loss improved from 0.00255 to 0.00244, saving model to lstm_model.h5\n",
      "Epoch 11/50\n",
      "29/29 [==============================] - 1s 40ms/step - loss: 0.0016 - val_loss: 0.0025\n",
      "\n",
      "Epoch 00011: val_loss did not improve from 0.00244\n",
      "Epoch 12/50\n",
      "29/29 [==============================] - 2s 53ms/step - loss: 0.0016 - val_loss: 0.0110\n",
      "\n",
      "Epoch 00012: val_loss did not improve from 0.00244\n",
      "Epoch 13/50\n",
      "29/29 [==============================] - 1s 43ms/step - loss: 0.0014 - val_loss: 0.0022\n",
      "\n",
      "Epoch 00013: val_loss improved from 0.00244 to 0.00222, saving model to lstm_model.h5\n",
      "Epoch 14/50\n",
      "29/29 [==============================] - 1s 40ms/step - loss: 0.0013 - val_loss: 0.0038\n",
      "\n",
      "Epoch 00014: val_loss did not improve from 0.00222\n",
      "Epoch 15/50\n",
      "29/29 [==============================] - 1s 40ms/step - loss: 0.0013 - val_loss: 0.0028\n",
      "\n",
      "Epoch 00015: val_loss did not improve from 0.00222\n",
      "Epoch 16/50\n",
      "29/29 [==============================] - 1s 40ms/step - loss: 0.0013 - val_loss: 0.0019\n",
      "\n",
      "Epoch 00016: val_loss improved from 0.00222 to 0.00194, saving model to lstm_model.h5\n",
      "Epoch 17/50\n",
      "29/29 [==============================] - 1s 50ms/step - loss: 0.0010 - val_loss: 0.0019\n",
      "\n",
      "Epoch 00017: val_loss improved from 0.00194 to 0.00188, saving model to lstm_model.h5\n",
      "Epoch 18/50\n",
      "29/29 [==============================] - 1s 42ms/step - loss: 0.0011 - val_loss: 0.0067\n",
      "\n",
      "Epoch 00018: val_loss did not improve from 0.00188\n",
      "Epoch 19/50\n",
      "29/29 [==============================] - 1s 42ms/step - loss: 0.0013 - val_loss: 0.0022\n",
      "\n",
      "Epoch 00019: val_loss did not improve from 0.00188\n",
      "Epoch 20/50\n",
      "29/29 [==============================] - 1s 43ms/step - loss: 0.0013 - val_loss: 0.0019\n",
      "\n",
      "Epoch 00020: val_loss did not improve from 0.00188\n",
      "Epoch 21/50\n",
      "29/29 [==============================] - 1s 46ms/step - loss: 0.0010 - val_loss: 0.0034\n",
      "\n",
      "Epoch 00021: val_loss did not improve from 0.00188\n",
      "Epoch 22/50\n",
      "29/29 [==============================] - 1s 47ms/step - loss: 0.0010 - val_loss: 0.0029\n",
      "\n",
      "Epoch 00022: val_loss did not improve from 0.00188\n",
      "Epoch 23/50\n",
      "29/29 [==============================] - 1s 40ms/step - loss: 0.0011 - val_loss: 0.0019\n",
      "\n",
      "Epoch 00023: val_loss did not improve from 0.00188\n",
      "Epoch 24/50\n",
      "29/29 [==============================] - 1s 41ms/step - loss: 0.0010 - val_loss: 0.0018\n",
      "\n",
      "Epoch 00024: val_loss improved from 0.00188 to 0.00178, saving model to lstm_model.h5\n",
      "Epoch 25/50\n",
      "29/29 [==============================] - 1s 42ms/step - loss: 0.0011 - val_loss: 0.0018\n",
      "\n",
      "Epoch 00025: val_loss did not improve from 0.00178\n",
      "Epoch 26/50\n",
      "29/29 [==============================] - 1s 50ms/step - loss: 9.7763e-04 - val_loss: 0.0037\n",
      "\n",
      "Epoch 00026: val_loss did not improve from 0.00178\n",
      "Epoch 27/50\n",
      "29/29 [==============================] - 1s 45ms/step - loss: 0.0012 - val_loss: 0.0017\n",
      "\n",
      "Epoch 00027: val_loss improved from 0.00178 to 0.00169, saving model to lstm_model.h5\n",
      "Epoch 28/50\n",
      "29/29 [==============================] - 1s 40ms/step - loss: 9.3069e-04 - val_loss: 0.0016\n",
      "\n",
      "Epoch 00028: val_loss improved from 0.00169 to 0.00163, saving model to lstm_model.h5\n",
      "Epoch 29/50\n",
      "29/29 [==============================] - 1s 41ms/step - loss: 9.4221e-04 - val_loss: 0.0024\n",
      "\n",
      "Epoch 00029: val_loss did not improve from 0.00163\n",
      "Epoch 30/50\n",
      "29/29 [==============================] - 1s 40ms/step - loss: 9.4857e-04 - val_loss: 0.0017\n",
      "\n",
      "Epoch 00030: val_loss did not improve from 0.00163\n",
      "Epoch 31/50\n",
      "29/29 [==============================] - 1s 51ms/step - loss: 0.0010 - val_loss: 0.0015\n",
      "\n",
      "Epoch 00031: val_loss improved from 0.00163 to 0.00155, saving model to lstm_model.h5\n",
      "Epoch 32/50\n",
      "29/29 [==============================] - 1s 40ms/step - loss: 9.9164e-04 - val_loss: 0.0017\n",
      "\n",
      "Epoch 00032: val_loss did not improve from 0.00155\n",
      "Epoch 33/50\n",
      "29/29 [==============================] - 1s 41ms/step - loss: 9.2460e-04 - val_loss: 0.0017\n",
      "\n",
      "Epoch 00033: val_loss did not improve from 0.00155\n",
      "Epoch 34/50\n",
      "29/29 [==============================] - 1s 42ms/step - loss: 9.5180e-04 - val_loss: 0.0031\n",
      "\n",
      "Epoch 00034: val_loss did not improve from 0.00155\n",
      "Epoch 35/50\n",
      "29/29 [==============================] - 1s 40ms/step - loss: 0.0011 - val_loss: 0.0015\n",
      "\n",
      "Epoch 00035: val_loss improved from 0.00155 to 0.00149, saving model to lstm_model.h5\n",
      "Epoch 36/50\n",
      "29/29 [==============================] - 1s 49ms/step - loss: 9.5904e-04 - val_loss: 0.0016\n",
      "\n",
      "Epoch 00036: val_loss did not improve from 0.00149\n",
      "Epoch 37/50\n",
      "29/29 [==============================] - 1s 41ms/step - loss: 9.2981e-04 - val_loss: 0.0015\n",
      "\n",
      "Epoch 00037: val_loss improved from 0.00149 to 0.00145, saving model to lstm_model.h5\n",
      "Epoch 38/50\n",
      "29/29 [==============================] - 1s 41ms/step - loss: 7.7710e-04 - val_loss: 0.0014\n",
      "\n",
      "Epoch 00038: val_loss improved from 0.00145 to 0.00143, saving model to lstm_model.h5\n",
      "Epoch 39/50\n",
      "29/29 [==============================] - 1s 40ms/step - loss: 8.0804e-04 - val_loss: 0.0015\n",
      "\n",
      "Epoch 00039: val_loss did not improve from 0.00143\n",
      "Epoch 40/50\n",
      "29/29 [==============================] - 1s 41ms/step - loss: 7.8040e-04 - val_loss: 0.0029\n",
      "\n",
      "Epoch 00040: val_loss did not improve from 0.00143\n",
      "Epoch 41/50\n",
      "29/29 [==============================] - 1s 49ms/step - loss: 9.2118e-04 - val_loss: 0.0030\n",
      "\n",
      "Epoch 00041: val_loss did not improve from 0.00143\n",
      "Epoch 42/50\n",
      "29/29 [==============================] - 1s 43ms/step - loss: 8.8456e-04 - val_loss: 0.0016\n",
      "\n",
      "Epoch 00042: val_loss did not improve from 0.00143\n",
      "Epoch 43/50\n",
      "29/29 [==============================] - 1s 42ms/step - loss: 7.8927e-04 - val_loss: 0.0014\n",
      "\n",
      "Epoch 00043: val_loss improved from 0.00143 to 0.00142, saving model to lstm_model.h5\n",
      "Epoch 44/50\n",
      "29/29 [==============================] - 1s 42ms/step - loss: 9.0995e-04 - val_loss: 0.0056\n",
      "\n",
      "Epoch 00044: val_loss did not improve from 0.00142\n",
      "Epoch 45/50\n",
      "29/29 [==============================] - 1s 52ms/step - loss: 0.0010 - val_loss: 0.0044\n",
      "\n",
      "Epoch 00045: val_loss did not improve from 0.00142\n",
      "Epoch 46/50\n",
      "29/29 [==============================] - 1s 44ms/step - loss: 7.6180e-04 - val_loss: 0.0034\n",
      "\n",
      "Epoch 00046: val_loss did not improve from 0.00142\n",
      "Epoch 47/50\n",
      "29/29 [==============================] - 1s 43ms/step - loss: 9.2273e-04 - val_loss: 0.0018\n",
      "\n",
      "Epoch 00047: val_loss did not improve from 0.00142\n",
      "Epoch 48/50\n",
      "29/29 [==============================] - 1s 43ms/step - loss: 7.0989e-04 - val_loss: 0.0021\n",
      "\n",
      "Epoch 00048: val_loss did not improve from 0.00142\n",
      "Epoch 49/50\n",
      "29/29 [==============================] - 1s 48ms/step - loss: 8.0193e-04 - val_loss: 0.0013\n",
      "\n",
      "Epoch 00049: val_loss improved from 0.00142 to 0.00130, saving model to lstm_model.h5\n",
      "Epoch 50/50\n",
      "29/29 [==============================] - 2s 56ms/step - loss: 6.9896e-04 - val_loss: 0.0013\n",
      "\n",
      "Epoch 00050: val_loss improved from 0.00130 to 0.00130, saving model to lstm_model.h5\n"
     ]
    },
    {
     "data": {
      "text/plain": [
       "<keras.callbacks.History at 0x1f67fb82700>"
      ]
     },
     "execution_count": 28,
     "metadata": {},
     "output_type": "execute_result"
    }
   ],
   "source": [
    "model.fit(Xtrain, Ytrain, validation_data = (Xtest, Ytest), epochs = 50, batch_size = 32,verbose=1, callbacks=[csv_logger, checkpoint])"
   ]
  },
  {
   "cell_type": "code",
   "execution_count": 29,
   "metadata": {},
   "outputs": [],
   "source": [
    "train_predict = model.predict(Xtrain)\n",
    "test_predict = model.predict(Xtest)"
   ]
  },
  {
   "cell_type": "code",
   "execution_count": 30,
   "metadata": {},
   "outputs": [],
   "source": [
    "train_predict = scaler.inverse_transform(train_predict)\n",
    "test_predict = scaler.inverse_transform(test_predict)"
   ]
  },
  {
   "cell_type": "code",
   "execution_count": 34,
   "metadata": {},
   "outputs": [
    {
     "data": {
      "text/plain": [
       "121.044426"
      ]
     },
     "execution_count": 34,
     "metadata": {},
     "output_type": "execute_result"
    }
   ],
   "source": [
    "from keras.losses import MeanSquaredError\n",
    "\n",
    "metric = MeanSquaredError(reduction='auto', name='mean_squared_error')\n",
    "metric(Ytrain, train_predict).numpy()"
   ]
  },
  {
   "cell_type": "code",
   "execution_count": 35,
   "metadata": {},
   "outputs": [
    {
     "data": {
      "text/plain": [
       "449.75665"
      ]
     },
     "execution_count": 35,
     "metadata": {},
     "output_type": "execute_result"
    }
   ],
   "source": [
    "metric(Ytest, test_predict).numpy()"
   ]
  },
  {
   "cell_type": "code",
   "execution_count": 38,
   "metadata": {},
   "outputs": [
    {
     "data": {
      "text/plain": [
       "[<matplotlib.lines.Line2D at 0x1f60fd1daf0>]"
      ]
     },
     "execution_count": 38,
     "metadata": {},
     "output_type": "execute_result"
    }
   ],
   "source": [
    "plt.plot(closeDF['Close'])"
   ]
  },
  {
   "cell_type": "code",
   "execution_count": null,
   "metadata": {},
   "outputs": [],
   "source": []
  }
 ],
 "metadata": {
  "kernelspec": {
   "display_name": "Python 3.10.5 ('nugget')",
   "language": "python",
   "name": "python3"
  },
  "language_info": {
   "codemirror_mode": {
    "name": "ipython",
    "version": 3
   },
   "file_extension": ".py",
   "mimetype": "text/x-python",
   "name": "python",
   "nbconvert_exporter": "python",
   "pygments_lexer": "ipython3",
   "version": "3.10.5"
  },
  "orig_nbformat": 4,
  "vscode": {
   "interpreter": {
    "hash": "2eae1c96c9dd62d2089c5c8e55a6329415a90bdf1dc6799a664937c8a714466b"
   }
  }
 },
 "nbformat": 4,
 "nbformat_minor": 2
}
